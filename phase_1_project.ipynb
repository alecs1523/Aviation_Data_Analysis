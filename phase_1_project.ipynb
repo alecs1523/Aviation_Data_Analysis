{
 "cells": [
  {
   "cell_type": "markdown",
   "id": "ff5220ed",
   "metadata": {},
   "source": [
    "# Business Understanding"
   ]
  },
  {
   "cell_type": "markdown",
   "id": "557eb3f4",
   "metadata": {},
   "source": [
    "***"
   ]
  },
  {
   "cell_type": "markdown",
   "id": "930787a1",
   "metadata": {},
   "source": [
    "## Project Prompt"
   ]
  },
  {
   "cell_type": "markdown",
   "id": "7a79d700",
   "metadata": {},
   "source": [
    "Your company is expanding in to new industries to diversify its portfolio. Specifically, they are interested in purchasing and operating airplanes for commercial and private enterprises, but do not know anything about the potential risks of aircraft. You are charged with determining which aircraft are the lowest risk for the company to start this new business endeavor. You must then translate your findings into actionable insights that the head of the new aviation division can use to help decide which aircraft to purchase."
   ]
  },
  {
   "cell_type": "markdown",
   "id": "7c5c2676",
   "metadata": {},
   "source": [
    "## Goal"
   ]
  },
  {
   "cell_type": "markdown",
   "id": "46641054",
   "metadata": {},
   "source": [
    "Find the aircraft(s) with the lowest risk for the company to start its new endeavor"
   ]
  },
  {
   "cell_type": "markdown",
   "id": "c5c75c39",
   "metadata": {},
   "source": [
    "# Data Understanding"
   ]
  },
  {
   "cell_type": "markdown",
   "id": "779d1abb",
   "metadata": {},
   "source": [
    "***"
   ]
  },
  {
   "cell_type": "markdown",
   "id": "f9200ae3",
   "metadata": {},
   "source": [
    "## Dataset Overview"
   ]
  },
  {
   "cell_type": "markdown",
   "id": "f00e4d8b",
   "metadata": {},
   "source": [
    "Summary: The dataset contains records of aircraft crashes between 1948 - 2022. The data from 1948 -1982 is limited so we drop those data points to focus on the majority of the volume following 1982. Data points include the number of engines, seveirty of passenger injuries, severity of aircraft damage,and more. \n",
    "\n",
    "Important Data Columns: \n",
    "\n",
    "1. Aircraft Make and Model: Information about the specific make and model of the aircraft involved in each incident.\n",
    "\n",
    "2. Aircraft Damage: The severity of the damage to the aircraft\n",
    "\n",
    "3. Severity of Injuries: A count for each incident on the number of uninjured, minor, serious, and fatal injuries. "
   ]
  },
  {
   "cell_type": "markdown",
   "id": "5e42a2ea",
   "metadata": {},
   "source": [
    "# Data Preparation"
   ]
  },
  {
   "cell_type": "markdown",
   "id": "8467e57d",
   "metadata": {},
   "source": [
    "## Step 1: Load and Explore Dataset"
   ]
  },
  {
   "cell_type": "code",
   "execution_count": 98,
   "id": "f35d182e",
   "metadata": {},
   "outputs": [],
   "source": [
    "#Import necessary packages\n",
    "\n",
    "import pandas as pd\n",
    "import numpy as np\n",
    "import matplotlib.pyplot as plt\n",
    "import seaborn as sns\n",
    "\n",
    "%matplotlib inline   "
   ]
  },
  {
   "cell_type": "code",
   "execution_count": 99,
   "id": "b7ccd6f5",
   "metadata": {},
   "outputs": [
    {
     "data": {
      "text/html": [
       "<div>\n",
       "<style scoped>\n",
       "    .dataframe tbody tr th:only-of-type {\n",
       "        vertical-align: middle;\n",
       "    }\n",
       "\n",
       "    .dataframe tbody tr th {\n",
       "        vertical-align: top;\n",
       "    }\n",
       "\n",
       "    .dataframe thead th {\n",
       "        text-align: right;\n",
       "    }\n",
       "</style>\n",
       "<table border=\"1\" class=\"dataframe\">\n",
       "  <thead>\n",
       "    <tr style=\"text-align: right;\">\n",
       "      <th></th>\n",
       "      <th>Event.Id</th>\n",
       "      <th>Investigation.Type</th>\n",
       "      <th>Accident.Number</th>\n",
       "      <th>Event.Date</th>\n",
       "      <th>Location</th>\n",
       "      <th>Country</th>\n",
       "      <th>Latitude</th>\n",
       "      <th>Longitude</th>\n",
       "      <th>Airport.Code</th>\n",
       "      <th>Airport.Name</th>\n",
       "      <th>...</th>\n",
       "      <th>Purpose.of.flight</th>\n",
       "      <th>Air.carrier</th>\n",
       "      <th>Total.Fatal.Injuries</th>\n",
       "      <th>Total.Serious.Injuries</th>\n",
       "      <th>Total.Minor.Injuries</th>\n",
       "      <th>Total.Uninjured</th>\n",
       "      <th>Weather.Condition</th>\n",
       "      <th>Broad.phase.of.flight</th>\n",
       "      <th>Report.Status</th>\n",
       "      <th>Publication.Date</th>\n",
       "    </tr>\n",
       "  </thead>\n",
       "  <tbody>\n",
       "    <tr>\n",
       "      <th>0</th>\n",
       "      <td>20001218X45444</td>\n",
       "      <td>Accident</td>\n",
       "      <td>SEA87LA080</td>\n",
       "      <td>1948-10-24</td>\n",
       "      <td>MOOSE CREEK, ID</td>\n",
       "      <td>United States</td>\n",
       "      <td>NaN</td>\n",
       "      <td>NaN</td>\n",
       "      <td>NaN</td>\n",
       "      <td>NaN</td>\n",
       "      <td>...</td>\n",
       "      <td>Personal</td>\n",
       "      <td>NaN</td>\n",
       "      <td>2.0</td>\n",
       "      <td>0.0</td>\n",
       "      <td>0.0</td>\n",
       "      <td>0.0</td>\n",
       "      <td>UNK</td>\n",
       "      <td>Cruise</td>\n",
       "      <td>Probable Cause</td>\n",
       "      <td>NaN</td>\n",
       "    </tr>\n",
       "    <tr>\n",
       "      <th>1</th>\n",
       "      <td>20001218X45447</td>\n",
       "      <td>Accident</td>\n",
       "      <td>LAX94LA336</td>\n",
       "      <td>1962-07-19</td>\n",
       "      <td>BRIDGEPORT, CA</td>\n",
       "      <td>United States</td>\n",
       "      <td>NaN</td>\n",
       "      <td>NaN</td>\n",
       "      <td>NaN</td>\n",
       "      <td>NaN</td>\n",
       "      <td>...</td>\n",
       "      <td>Personal</td>\n",
       "      <td>NaN</td>\n",
       "      <td>4.0</td>\n",
       "      <td>0.0</td>\n",
       "      <td>0.0</td>\n",
       "      <td>0.0</td>\n",
       "      <td>UNK</td>\n",
       "      <td>Unknown</td>\n",
       "      <td>Probable Cause</td>\n",
       "      <td>19-09-1996</td>\n",
       "    </tr>\n",
       "    <tr>\n",
       "      <th>2</th>\n",
       "      <td>20061025X01555</td>\n",
       "      <td>Accident</td>\n",
       "      <td>NYC07LA005</td>\n",
       "      <td>1974-08-30</td>\n",
       "      <td>Saltville, VA</td>\n",
       "      <td>United States</td>\n",
       "      <td>36.922223</td>\n",
       "      <td>-81.878056</td>\n",
       "      <td>NaN</td>\n",
       "      <td>NaN</td>\n",
       "      <td>...</td>\n",
       "      <td>Personal</td>\n",
       "      <td>NaN</td>\n",
       "      <td>3.0</td>\n",
       "      <td>NaN</td>\n",
       "      <td>NaN</td>\n",
       "      <td>NaN</td>\n",
       "      <td>IMC</td>\n",
       "      <td>Cruise</td>\n",
       "      <td>Probable Cause</td>\n",
       "      <td>26-02-2007</td>\n",
       "    </tr>\n",
       "    <tr>\n",
       "      <th>3</th>\n",
       "      <td>20001218X45448</td>\n",
       "      <td>Accident</td>\n",
       "      <td>LAX96LA321</td>\n",
       "      <td>1977-06-19</td>\n",
       "      <td>EUREKA, CA</td>\n",
       "      <td>United States</td>\n",
       "      <td>NaN</td>\n",
       "      <td>NaN</td>\n",
       "      <td>NaN</td>\n",
       "      <td>NaN</td>\n",
       "      <td>...</td>\n",
       "      <td>Personal</td>\n",
       "      <td>NaN</td>\n",
       "      <td>2.0</td>\n",
       "      <td>0.0</td>\n",
       "      <td>0.0</td>\n",
       "      <td>0.0</td>\n",
       "      <td>IMC</td>\n",
       "      <td>Cruise</td>\n",
       "      <td>Probable Cause</td>\n",
       "      <td>12-09-2000</td>\n",
       "    </tr>\n",
       "    <tr>\n",
       "      <th>4</th>\n",
       "      <td>20041105X01764</td>\n",
       "      <td>Accident</td>\n",
       "      <td>CHI79FA064</td>\n",
       "      <td>1979-08-02</td>\n",
       "      <td>Canton, OH</td>\n",
       "      <td>United States</td>\n",
       "      <td>NaN</td>\n",
       "      <td>NaN</td>\n",
       "      <td>NaN</td>\n",
       "      <td>NaN</td>\n",
       "      <td>...</td>\n",
       "      <td>Personal</td>\n",
       "      <td>NaN</td>\n",
       "      <td>1.0</td>\n",
       "      <td>2.0</td>\n",
       "      <td>NaN</td>\n",
       "      <td>0.0</td>\n",
       "      <td>VMC</td>\n",
       "      <td>Approach</td>\n",
       "      <td>Probable Cause</td>\n",
       "      <td>16-04-1980</td>\n",
       "    </tr>\n",
       "  </tbody>\n",
       "</table>\n",
       "<p>5 rows × 31 columns</p>\n",
       "</div>"
      ],
      "text/plain": [
       "         Event.Id Investigation.Type Accident.Number  Event.Date  \\\n",
       "0  20001218X45444           Accident      SEA87LA080  1948-10-24   \n",
       "1  20001218X45447           Accident      LAX94LA336  1962-07-19   \n",
       "2  20061025X01555           Accident      NYC07LA005  1974-08-30   \n",
       "3  20001218X45448           Accident      LAX96LA321  1977-06-19   \n",
       "4  20041105X01764           Accident      CHI79FA064  1979-08-02   \n",
       "\n",
       "          Location        Country   Latitude   Longitude Airport.Code  \\\n",
       "0  MOOSE CREEK, ID  United States        NaN         NaN          NaN   \n",
       "1   BRIDGEPORT, CA  United States        NaN         NaN          NaN   \n",
       "2    Saltville, VA  United States  36.922223  -81.878056          NaN   \n",
       "3       EUREKA, CA  United States        NaN         NaN          NaN   \n",
       "4       Canton, OH  United States        NaN         NaN          NaN   \n",
       "\n",
       "  Airport.Name  ... Purpose.of.flight Air.carrier Total.Fatal.Injuries  \\\n",
       "0          NaN  ...          Personal         NaN                  2.0   \n",
       "1          NaN  ...          Personal         NaN                  4.0   \n",
       "2          NaN  ...          Personal         NaN                  3.0   \n",
       "3          NaN  ...          Personal         NaN                  2.0   \n",
       "4          NaN  ...          Personal         NaN                  1.0   \n",
       "\n",
       "  Total.Serious.Injuries Total.Minor.Injuries Total.Uninjured  \\\n",
       "0                    0.0                  0.0             0.0   \n",
       "1                    0.0                  0.0             0.0   \n",
       "2                    NaN                  NaN             NaN   \n",
       "3                    0.0                  0.0             0.0   \n",
       "4                    2.0                  NaN             0.0   \n",
       "\n",
       "  Weather.Condition  Broad.phase.of.flight   Report.Status Publication.Date  \n",
       "0               UNK                 Cruise  Probable Cause              NaN  \n",
       "1               UNK                Unknown  Probable Cause       19-09-1996  \n",
       "2               IMC                 Cruise  Probable Cause       26-02-2007  \n",
       "3               IMC                 Cruise  Probable Cause       12-09-2000  \n",
       "4               VMC               Approach  Probable Cause       16-04-1980  \n",
       "\n",
       "[5 rows x 31 columns]"
      ]
     },
     "execution_count": 99,
     "metadata": {},
     "output_type": "execute_result"
    }
   ],
   "source": [
    "#Load and print head of Aviation Datasets ('AviationData.csv', 'USState_Codes.csv')\n",
    "\n",
    "df = pd.read_csv('AviationData.csv', encoding='ISO-8859-1', low_memory=False)\n",
    "\n",
    "df.head()"
   ]
  },
  {
   "cell_type": "code",
   "execution_count": 100,
   "id": "b9d11c0e",
   "metadata": {},
   "outputs": [
    {
     "data": {
      "text/plain": [
       "(88889, 31)"
      ]
     },
     "execution_count": 100,
     "metadata": {},
     "output_type": "execute_result"
    }
   ],
   "source": [
    "df.shape"
   ]
  },
  {
   "cell_type": "code",
   "execution_count": 101,
   "id": "3ce971b5",
   "metadata": {},
   "outputs": [
    {
     "data": {
      "text/plain": [
       "Index(['Event.Id', 'Investigation.Type', 'Accident.Number', 'Event.Date',\n",
       "       'Location', 'Country', 'Latitude', 'Longitude', 'Airport.Code',\n",
       "       'Airport.Name', 'Injury.Severity', 'Aircraft.damage',\n",
       "       'Aircraft.Category', 'Registration.Number', 'Make', 'Model',\n",
       "       'Amateur.Built', 'Number.of.Engines', 'Engine.Type', 'FAR.Description',\n",
       "       'Schedule', 'Purpose.of.flight', 'Air.carrier', 'Total.Fatal.Injuries',\n",
       "       'Total.Serious.Injuries', 'Total.Minor.Injuries', 'Total.Uninjured',\n",
       "       'Weather.Condition', 'Broad.phase.of.flight', 'Report.Status',\n",
       "       'Publication.Date'],\n",
       "      dtype='object')"
      ]
     },
     "execution_count": 101,
     "metadata": {},
     "output_type": "execute_result"
    }
   ],
   "source": [
    "df.columns"
   ]
  },
  {
   "cell_type": "code",
   "execution_count": 102,
   "id": "7292c751",
   "metadata": {},
   "outputs": [
    {
     "name": "stdout",
     "output_type": "stream",
     "text": [
      "<class 'pandas.core.frame.DataFrame'>\n",
      "RangeIndex: 88889 entries, 0 to 88888\n",
      "Data columns (total 31 columns):\n",
      " #   Column                  Non-Null Count  Dtype  \n",
      "---  ------                  --------------  -----  \n",
      " 0   Event.Id                88889 non-null  object \n",
      " 1   Investigation.Type      88889 non-null  object \n",
      " 2   Accident.Number         88889 non-null  object \n",
      " 3   Event.Date              88889 non-null  object \n",
      " 4   Location                88837 non-null  object \n",
      " 5   Country                 88663 non-null  object \n",
      " 6   Latitude                34382 non-null  object \n",
      " 7   Longitude               34373 non-null  object \n",
      " 8   Airport.Code            50132 non-null  object \n",
      " 9   Airport.Name            52704 non-null  object \n",
      " 10  Injury.Severity         87889 non-null  object \n",
      " 11  Aircraft.damage         85695 non-null  object \n",
      " 12  Aircraft.Category       32287 non-null  object \n",
      " 13  Registration.Number     87507 non-null  object \n",
      " 14  Make                    88826 non-null  object \n",
      " 15  Model                   88797 non-null  object \n",
      " 16  Amateur.Built           88787 non-null  object \n",
      " 17  Number.of.Engines       82805 non-null  float64\n",
      " 18  Engine.Type             81793 non-null  object \n",
      " 19  FAR.Description         32023 non-null  object \n",
      " 20  Schedule                12582 non-null  object \n",
      " 21  Purpose.of.flight       82697 non-null  object \n",
      " 22  Air.carrier             16648 non-null  object \n",
      " 23  Total.Fatal.Injuries    77488 non-null  float64\n",
      " 24  Total.Serious.Injuries  76379 non-null  float64\n",
      " 25  Total.Minor.Injuries    76956 non-null  float64\n",
      " 26  Total.Uninjured         82977 non-null  float64\n",
      " 27  Weather.Condition       84397 non-null  object \n",
      " 28  Broad.phase.of.flight   61724 non-null  object \n",
      " 29  Report.Status           82505 non-null  object \n",
      " 30  Publication.Date        75118 non-null  object \n",
      "dtypes: float64(5), object(26)\n",
      "memory usage: 21.0+ MB\n"
     ]
    }
   ],
   "source": [
    "df.info()"
   ]
  },
  {
   "cell_type": "markdown",
   "id": "15af7e8a",
   "metadata": {},
   "source": [
    "***"
   ]
  },
  {
   "cell_type": "markdown",
   "id": "c03b960b",
   "metadata": {},
   "source": [
    "## Missing Values"
   ]
  },
  {
   "cell_type": "markdown",
   "id": "9f81298a",
   "metadata": {},
   "source": [
    "There are several columns that have significant missing values: Latitude, Longitude, Airport.Code, Airport.Name, Aircraft.Category, FAR.Description, Schedule, Air.carrier, Broad.phase.of.flight"
   ]
  },
  {
   "cell_type": "code",
   "execution_count": 103,
   "id": "aa3ae9b9",
   "metadata": {},
   "outputs": [
    {
     "data": {
      "text/html": [
       "<div>\n",
       "<style scoped>\n",
       "    .dataframe tbody tr th:only-of-type {\n",
       "        vertical-align: middle;\n",
       "    }\n",
       "\n",
       "    .dataframe tbody tr th {\n",
       "        vertical-align: top;\n",
       "    }\n",
       "\n",
       "    .dataframe thead th {\n",
       "        text-align: right;\n",
       "    }\n",
       "</style>\n",
       "<table border=\"1\" class=\"dataframe\">\n",
       "  <thead>\n",
       "    <tr style=\"text-align: right;\">\n",
       "      <th></th>\n",
       "      <th>Number.of.Engines</th>\n",
       "      <th>Total.Fatal.Injuries</th>\n",
       "      <th>Total.Serious.Injuries</th>\n",
       "      <th>Total.Minor.Injuries</th>\n",
       "      <th>Total.Uninjured</th>\n",
       "    </tr>\n",
       "  </thead>\n",
       "  <tbody>\n",
       "    <tr>\n",
       "      <th>count</th>\n",
       "      <td>82805.000000</td>\n",
       "      <td>77488.000000</td>\n",
       "      <td>76379.000000</td>\n",
       "      <td>76956.000000</td>\n",
       "      <td>82977.000000</td>\n",
       "    </tr>\n",
       "    <tr>\n",
       "      <th>mean</th>\n",
       "      <td>1.146585</td>\n",
       "      <td>0.647855</td>\n",
       "      <td>0.279881</td>\n",
       "      <td>0.357061</td>\n",
       "      <td>5.325440</td>\n",
       "    </tr>\n",
       "    <tr>\n",
       "      <th>std</th>\n",
       "      <td>0.446510</td>\n",
       "      <td>5.485960</td>\n",
       "      <td>1.544084</td>\n",
       "      <td>2.235625</td>\n",
       "      <td>27.913634</td>\n",
       "    </tr>\n",
       "    <tr>\n",
       "      <th>min</th>\n",
       "      <td>0.000000</td>\n",
       "      <td>0.000000</td>\n",
       "      <td>0.000000</td>\n",
       "      <td>0.000000</td>\n",
       "      <td>0.000000</td>\n",
       "    </tr>\n",
       "    <tr>\n",
       "      <th>25%</th>\n",
       "      <td>1.000000</td>\n",
       "      <td>0.000000</td>\n",
       "      <td>0.000000</td>\n",
       "      <td>0.000000</td>\n",
       "      <td>0.000000</td>\n",
       "    </tr>\n",
       "    <tr>\n",
       "      <th>50%</th>\n",
       "      <td>1.000000</td>\n",
       "      <td>0.000000</td>\n",
       "      <td>0.000000</td>\n",
       "      <td>0.000000</td>\n",
       "      <td>1.000000</td>\n",
       "    </tr>\n",
       "    <tr>\n",
       "      <th>75%</th>\n",
       "      <td>1.000000</td>\n",
       "      <td>0.000000</td>\n",
       "      <td>0.000000</td>\n",
       "      <td>0.000000</td>\n",
       "      <td>2.000000</td>\n",
       "    </tr>\n",
       "    <tr>\n",
       "      <th>max</th>\n",
       "      <td>8.000000</td>\n",
       "      <td>349.000000</td>\n",
       "      <td>161.000000</td>\n",
       "      <td>380.000000</td>\n",
       "      <td>699.000000</td>\n",
       "    </tr>\n",
       "  </tbody>\n",
       "</table>\n",
       "</div>"
      ],
      "text/plain": [
       "       Number.of.Engines  Total.Fatal.Injuries  Total.Serious.Injuries  \\\n",
       "count       82805.000000          77488.000000            76379.000000   \n",
       "mean            1.146585              0.647855                0.279881   \n",
       "std             0.446510              5.485960                1.544084   \n",
       "min             0.000000              0.000000                0.000000   \n",
       "25%             1.000000              0.000000                0.000000   \n",
       "50%             1.000000              0.000000                0.000000   \n",
       "75%             1.000000              0.000000                0.000000   \n",
       "max             8.000000            349.000000              161.000000   \n",
       "\n",
       "       Total.Minor.Injuries  Total.Uninjured  \n",
       "count          76956.000000     82977.000000  \n",
       "mean               0.357061         5.325440  \n",
       "std                2.235625        27.913634  \n",
       "min                0.000000         0.000000  \n",
       "25%                0.000000         0.000000  \n",
       "50%                0.000000         1.000000  \n",
       "75%                0.000000         2.000000  \n",
       "max              380.000000       699.000000  "
      ]
     },
     "execution_count": 103,
     "metadata": {},
     "output_type": "execute_result"
    }
   ],
   "source": [
    "df.describe()"
   ]
  },
  {
   "cell_type": "markdown",
   "id": "baa59684",
   "metadata": {},
   "source": [
    "***"
   ]
  },
  {
   "cell_type": "markdown",
   "id": "fbe471fc",
   "metadata": {},
   "source": [
    "# Cleaning Data"
   ]
  },
  {
   "cell_type": "code",
   "execution_count": 104,
   "id": "1eb83431",
   "metadata": {},
   "outputs": [
    {
     "data": {
      "text/plain": [
       "Event.Id                      0\n",
       "Investigation.Type            0\n",
       "Accident.Number               0\n",
       "Event.Date                    0\n",
       "Location                     52\n",
       "Country                     226\n",
       "Latitude                  54507\n",
       "Longitude                 54516\n",
       "Airport.Code              38757\n",
       "Airport.Name              36185\n",
       "Injury.Severity            1000\n",
       "Aircraft.damage            3194\n",
       "Aircraft.Category         56602\n",
       "Registration.Number        1382\n",
       "Make                         63\n",
       "Model                        92\n",
       "Amateur.Built               102\n",
       "Number.of.Engines          6084\n",
       "Engine.Type                7096\n",
       "FAR.Description           56866\n",
       "Schedule                  76307\n",
       "Purpose.of.flight          6192\n",
       "Air.carrier               72241\n",
       "Total.Fatal.Injuries      11401\n",
       "Total.Serious.Injuries    12510\n",
       "Total.Minor.Injuries      11933\n",
       "Total.Uninjured            5912\n",
       "Weather.Condition          4492\n",
       "Broad.phase.of.flight     27165\n",
       "Report.Status              6384\n",
       "Publication.Date          13771\n",
       "dtype: int64"
      ]
     },
     "execution_count": 104,
     "metadata": {},
     "output_type": "execute_result"
    }
   ],
   "source": [
    "#Identify missing values across dataframe columns \n",
    "\n",
    "df.isna().sum()"
   ]
  },
  {
   "cell_type": "code",
   "execution_count": 105,
   "id": "cd527ba8",
   "metadata": {},
   "outputs": [
    {
     "name": "stdout",
     "output_type": "stream",
     "text": [
      "['Latitude', 'Longitude', 'Airport.Code', 'Airport.Name', 'Aircraft.Category', 'FAR.Description', 'Schedule', 'Air.carrier', 'Broad.phase.of.flight']\n"
     ]
    }
   ],
   "source": [
    "#Identify columns with more than 25% of missing data and add them to a list\n",
    "\n",
    "(df['FAR.Description'].isna().sum()/len(df)) * 100\n",
    "\n",
    "columns_to_drop=[]\n",
    "for x in df:\n",
    "    if (df[x].isna().sum() / len(df[x])) * 100 > 25:\n",
    "        columns_to_drop.append(x)\n",
    "print(columns_to_drop)\n",
    "   "
   ]
  },
  {
   "cell_type": "code",
   "execution_count": 106,
   "id": "f0f5c4d1",
   "metadata": {},
   "outputs": [
    {
     "data": {
      "text/plain": [
       "Index(['Event.Id', 'Investigation.Type', 'Accident.Number', 'Event.Date',\n",
       "       'Location', 'Country', 'Injury.Severity', 'Aircraft.damage',\n",
       "       'Registration.Number', 'Make', 'Model', 'Amateur.Built',\n",
       "       'Number.of.Engines', 'Engine.Type', 'Purpose.of.flight',\n",
       "       'Total.Fatal.Injuries', 'Total.Serious.Injuries',\n",
       "       'Total.Minor.Injuries', 'Total.Uninjured', 'Weather.Condition',\n",
       "       'Report.Status', 'Publication.Date'],\n",
       "      dtype='object')"
      ]
     },
     "execution_count": 106,
     "metadata": {},
     "output_type": "execute_result"
    }
   ],
   "source": [
    "#Drop columns from dataframe that are missing too much data\n",
    "\n",
    "df_new = df.drop(columns= columns_to_drop)\n",
    "df_new.columns\n"
   ]
  },
  {
   "cell_type": "code",
   "execution_count": 107,
   "id": "1414e415",
   "metadata": {},
   "outputs": [
    {
     "name": "stdout",
     "output_type": "stream",
     "text": [
      "<class 'pandas.core.frame.DataFrame'>\n"
     ]
    }
   ],
   "source": [
    "print(type(df_new))"
   ]
  },
  {
   "cell_type": "code",
   "execution_count": 108,
   "id": "48f22f25",
   "metadata": {},
   "outputs": [
    {
     "name": "stdout",
     "output_type": "stream",
     "text": [
      "Investigation Type: ['Accident' 'Incident']\n",
      "Aircraft damage: ['Destroyed' 'Substantial' 'Minor' nan 'Unknown']\n",
      "Engine Type: ['Reciprocating' nan 'Turbo Fan' 'Turbo Shaft' 'Unknown' 'Turbo Prop'\n",
      " 'Turbo Jet' 'Electric' 'Hybrid Rocket' 'Geared Turbofan' 'LR' 'NONE'\n",
      " 'UNK']\n"
     ]
    }
   ],
   "source": [
    "#Exploring unique column values\n",
    "\n",
    "print('Investigation Type:',df['Investigation.Type'].unique())\n",
    "print('Aircraft damage:',df['Aircraft.damage'].unique())\n",
    "print('Engine Type:',df['Engine.Type'].unique())"
   ]
  },
  {
   "cell_type": "code",
   "execution_count": 109,
   "id": "bbd80680",
   "metadata": {},
   "outputs": [
    {
     "data": {
      "text/plain": [
       "Make\n",
       "Cessna             22227\n",
       "Piper              12029\n",
       "CESSNA              4922\n",
       "Beech               4330\n",
       "PIPER               2841\n",
       "                   ...  \n",
       "Leonard Walters        1\n",
       "Maule Air Inc.         1\n",
       "Motley Vans            1\n",
       "Perlick                1\n",
       "ROYSE RALPH L          1\n",
       "Name: count, Length: 8237, dtype: int64"
      ]
     },
     "execution_count": 109,
     "metadata": {},
     "output_type": "execute_result"
    }
   ],
   "source": [
    "# Explore different airplane makes\n",
    "\n",
    "df_new['Make'].value_counts()"
   ]
  },
  {
   "cell_type": "code",
   "execution_count": 110,
   "id": "4aca2a06",
   "metadata": {},
   "outputs": [
    {
     "data": {
      "text/plain": [
       "Make\n",
       "Cessna           27149\n",
       "Piper            14870\n",
       "Beech             5372\n",
       "Boeing            2745\n",
       "Bell              2722\n",
       "                 ...  \n",
       "Cohen                1\n",
       "Kitchens             1\n",
       "Lutes                1\n",
       "Izatt                1\n",
       "Royse Ralph L        1\n",
       "Name: count, Length: 7587, dtype: int64"
      ]
     },
     "execution_count": 110,
     "metadata": {},
     "output_type": "execute_result"
    }
   ],
   "source": [
    "#Clean data amongst same make but different spelling \n",
    "\n",
    "df_new['Make'] = df_new['Make'].str.title()\n",
    "df_new['Make'].value_counts()"
   ]
  },
  {
   "cell_type": "code",
   "execution_count": 111,
   "id": "9be5ea62",
   "metadata": {},
   "outputs": [
    {
     "data": {
      "text/plain": [
       "Weather.Condition\n",
       "Vmc    77303\n",
       "Imc     5976\n",
       "Unk     1118\n",
       "Name: count, dtype: int64"
      ]
     },
     "execution_count": 111,
     "metadata": {},
     "output_type": "execute_result"
    }
   ],
   "source": [
    "#Clean values in Weather Condition column\n",
    "\n",
    "df_new['Weather.Condition'] = df_new['Weather.Condition'].str.title()\n",
    "df_new['Weather.Condition'].value_counts()"
   ]
  },
  {
   "cell_type": "code",
   "execution_count": 112,
   "id": "f73511cb",
   "metadata": {},
   "outputs": [
    {
     "data": {
      "text/plain": [
       "Model\n",
       "152              2367\n",
       "172              1756\n",
       "172N             1164\n",
       "PA-28-140         932\n",
       "150               829\n",
       "                 ... \n",
       "GC-1-A              1\n",
       "737-3S3             1\n",
       "MBB-BK117-B2        1\n",
       "GLASSAIR GL25       1\n",
       "M-8 EAGLE           1\n",
       "Name: count, Length: 12318, dtype: int64"
      ]
     },
     "execution_count": 112,
     "metadata": {},
     "output_type": "execute_result"
    }
   ],
   "source": [
    "df_new['Model'].value_counts()"
   ]
  },
  {
   "cell_type": "code",
   "execution_count": 113,
   "id": "469aab4b",
   "metadata": {},
   "outputs": [
    {
     "data": {
      "text/plain": [
       "Aircraft.damage\n",
       "Substantial    64148\n",
       "Destroyed      18623\n",
       "Minor           2805\n",
       "Unknown          119\n",
       "Name: count, dtype: int64"
      ]
     },
     "execution_count": 113,
     "metadata": {},
     "output_type": "execute_result"
    }
   ],
   "source": [
    "damage_count = df_new['Aircraft.damage'].value_counts()\n",
    "damage_count"
   ]
  },
  {
   "cell_type": "markdown",
   "id": "41d039e2",
   "metadata": {},
   "source": [
    "***"
   ]
  },
  {
   "cell_type": "markdown",
   "id": "d3daa282",
   "metadata": {},
   "source": [
    "# Exploratory Data Analysis"
   ]
  },
  {
   "cell_type": "code",
   "execution_count": 114,
   "id": "c0348e68",
   "metadata": {},
   "outputs": [
    {
     "data": {
      "text/plain": [
       "Text(0.5, 0, 'Severity of Damage')"
      ]
     },
     "execution_count": 114,
     "metadata": {},
     "output_type": "execute_result"
    },
    {
     "data": {
      "image/png": "[encoded data removed]",
      "text/plain": [
       "<Figure size 600x600 with 1 Axes>"
      ]
     },
     "metadata": {},
     "output_type": "display_data"
    }
   ],
   "source": [
    "fig, ax = plt.subplots(figsize= (6,6))\n",
    "\n",
    "ax.bar(damage_count.index,damage_count.values)\n",
    "ax.set_ylabel('# of incidents')\n",
    "ax.set_xlabel('Severity of Damage')"
   ]
  },
  {
   "cell_type": "code",
   "execution_count": 115,
   "id": "df5cb9ef",
   "metadata": {},
   "outputs": [
    {
     "name": "stdout",
     "output_type": "stream",
     "text": [
      "<class 'pandas.core.frame.DataFrame'>\n"
     ]
    }
   ],
   "source": [
    "print(type(df_new))"
   ]
  },
  {
   "cell_type": "code",
   "execution_count": 116,
   "id": "e1771630",
   "metadata": {},
   "outputs": [
    {
     "data": {
      "text/html": [
       "<div>\n",
       "<style scoped>\n",
       "    .dataframe tbody tr th:only-of-type {\n",
       "        vertical-align: middle;\n",
       "    }\n",
       "\n",
       "    .dataframe tbody tr th {\n",
       "        vertical-align: top;\n",
       "    }\n",
       "\n",
       "    .dataframe thead th {\n",
       "        text-align: right;\n",
       "    }\n",
       "</style>\n",
       "<table border=\"1\" class=\"dataframe\">\n",
       "  <thead>\n",
       "    <tr style=\"text-align: right;\">\n",
       "      <th>Aircraft.damage</th>\n",
       "      <th>Destroyed</th>\n",
       "      <th>Minor</th>\n",
       "      <th>Substantial</th>\n",
       "      <th>Unknown</th>\n",
       "    </tr>\n",
       "    <tr>\n",
       "      <th>Model</th>\n",
       "      <th></th>\n",
       "      <th></th>\n",
       "      <th></th>\n",
       "      <th></th>\n",
       "    </tr>\n",
       "  </thead>\n",
       "  <tbody>\n",
       "    <tr>\n",
       "      <th>152</th>\n",
       "      <td>365</td>\n",
       "      <td>29</td>\n",
       "      <td>1958</td>\n",
       "      <td>2</td>\n",
       "    </tr>\n",
       "    <tr>\n",
       "      <th>172</th>\n",
       "      <td>207</td>\n",
       "      <td>9</td>\n",
       "      <td>1514</td>\n",
       "      <td>4</td>\n",
       "    </tr>\n",
       "    <tr>\n",
       "      <th>172N</th>\n",
       "      <td>236</td>\n",
       "      <td>7</td>\n",
       "      <td>910</td>\n",
       "      <td>0</td>\n",
       "    </tr>\n",
       "    <tr>\n",
       "      <th>PA-28-140</th>\n",
       "      <td>223</td>\n",
       "      <td>5</td>\n",
       "      <td>699</td>\n",
       "      <td>1</td>\n",
       "    </tr>\n",
       "    <tr>\n",
       "      <th>150</th>\n",
       "      <td>128</td>\n",
       "      <td>10</td>\n",
       "      <td>682</td>\n",
       "      <td>1</td>\n",
       "    </tr>\n",
       "    <tr>\n",
       "      <th>172M</th>\n",
       "      <td>146</td>\n",
       "      <td>11</td>\n",
       "      <td>638</td>\n",
       "      <td>2</td>\n",
       "    </tr>\n",
       "    <tr>\n",
       "      <th>172P</th>\n",
       "      <td>135</td>\n",
       "      <td>5</td>\n",
       "      <td>547</td>\n",
       "      <td>0</td>\n",
       "    </tr>\n",
       "    <tr>\n",
       "      <th>182</th>\n",
       "      <td>118</td>\n",
       "      <td>8</td>\n",
       "      <td>526</td>\n",
       "      <td>2</td>\n",
       "    </tr>\n",
       "    <tr>\n",
       "      <th>180</th>\n",
       "      <td>51</td>\n",
       "      <td>3</td>\n",
       "      <td>566</td>\n",
       "      <td>1</td>\n",
       "    </tr>\n",
       "    <tr>\n",
       "      <th>150M</th>\n",
       "      <td>94</td>\n",
       "      <td>8</td>\n",
       "      <td>482</td>\n",
       "      <td>0</td>\n",
       "    </tr>\n",
       "  </tbody>\n",
       "</table>\n",
       "</div>"
      ],
      "text/plain": [
       "Aircraft.damage  Destroyed  Minor  Substantial  Unknown\n",
       "Model                                                  \n",
       "152                    365     29         1958        2\n",
       "172                    207      9         1514        4\n",
       "172N                   236      7          910        0\n",
       "PA-28-140              223      5          699        1\n",
       "150                    128     10          682        1\n",
       "172M                   146     11          638        2\n",
       "172P                   135      5          547        0\n",
       "182                    118      8          526        2\n",
       "180                     51      3          566        1\n",
       "150M                    94      8          482        0"
      ]
     },
     "execution_count": 116,
     "metadata": {},
     "output_type": "execute_result"
    }
   ],
   "source": [
    "#Group model and aircraft damage data to create a bar chart of damage across models\n",
    "damage_by_model = df_new.groupby(['Model','Aircraft.damage']).size().unstack(fill_value=0)\n",
    "damage_by_model['Total']= damage_by_model.sum(axis=1)\n",
    "damage_by_model_sorted = damage_by_model.sort_values(by='Total',ascending=False)\n",
    "\n",
    "top_10_damage_by_model=damage_by_model_sorted.head(10)\n",
    "top_10_damage_by_model=top_10_damage_by_model.drop(columns=['Total'])\n",
    "top_10_damage_by_model"
   ]
  },
  {
   "cell_type": "code",
   "execution_count": 117,
   "id": "55f3434a",
   "metadata": {},
   "outputs": [
    {
     "data": {
      "image/png": "[encoded data removed]",
      "text/plain": [
       "<Figure size 640x480 with 1 Axes>"
      ]
     },
     "metadata": {},
     "output_type": "display_data"
    }
   ],
   "source": [
    "top_10_damage_by_model.plot(kind='bar',stacked=True)\n",
    "plt.show()"
   ]
  },
  {
   "cell_type": "code",
   "execution_count": 118,
   "id": "5b8b9091",
   "metadata": {},
   "outputs": [
    {
     "data": {
      "text/html": [
       "<div>\n",
       "<style scoped>\n",
       "    .dataframe tbody tr th:only-of-type {\n",
       "        vertical-align: middle;\n",
       "    }\n",
       "\n",
       "    .dataframe tbody tr th {\n",
       "        vertical-align: top;\n",
       "    }\n",
       "\n",
       "    .dataframe thead th {\n",
       "        text-align: right;\n",
       "    }\n",
       "</style>\n",
       "<table border=\"1\" class=\"dataframe\">\n",
       "  <thead>\n",
       "    <tr style=\"text-align: right;\">\n",
       "      <th>Aircraft.damage</th>\n",
       "      <th>Destroyed</th>\n",
       "      <th>Minor</th>\n",
       "      <th>Substantial</th>\n",
       "      <th>Unknown</th>\n",
       "    </tr>\n",
       "    <tr>\n",
       "      <th>Make</th>\n",
       "      <th></th>\n",
       "      <th></th>\n",
       "      <th></th>\n",
       "      <th></th>\n",
       "    </tr>\n",
       "  </thead>\n",
       "  <tbody>\n",
       "    <tr>\n",
       "      <th>Cessna</th>\n",
       "      <td>5202</td>\n",
       "      <td>387</td>\n",
       "      <td>21268</td>\n",
       "      <td>38</td>\n",
       "    </tr>\n",
       "    <tr>\n",
       "      <th>Piper</th>\n",
       "      <td>3428</td>\n",
       "      <td>204</td>\n",
       "      <td>11100</td>\n",
       "      <td>15</td>\n",
       "    </tr>\n",
       "    <tr>\n",
       "      <th>Beech</th>\n",
       "      <td>1585</td>\n",
       "      <td>170</td>\n",
       "      <td>3539</td>\n",
       "      <td>5</td>\n",
       "    </tr>\n",
       "    <tr>\n",
       "      <th>Bell</th>\n",
       "      <td>708</td>\n",
       "      <td>47</td>\n",
       "      <td>1900</td>\n",
       "      <td>5</td>\n",
       "    </tr>\n",
       "    <tr>\n",
       "      <th>Boeing</th>\n",
       "      <td>170</td>\n",
       "      <td>711</td>\n",
       "      <td>739</td>\n",
       "      <td>11</td>\n",
       "    </tr>\n",
       "    <tr>\n",
       "      <th>Mooney</th>\n",
       "      <td>373</td>\n",
       "      <td>24</td>\n",
       "      <td>923</td>\n",
       "      <td>3</td>\n",
       "    </tr>\n",
       "    <tr>\n",
       "      <th>Robinson</th>\n",
       "      <td>282</td>\n",
       "      <td>8</td>\n",
       "      <td>916</td>\n",
       "      <td>4</td>\n",
       "    </tr>\n",
       "    <tr>\n",
       "      <th>Grumman</th>\n",
       "      <td>299</td>\n",
       "      <td>18</td>\n",
       "      <td>845</td>\n",
       "      <td>0</td>\n",
       "    </tr>\n",
       "    <tr>\n",
       "      <th>Bellanca</th>\n",
       "      <td>233</td>\n",
       "      <td>7</td>\n",
       "      <td>800</td>\n",
       "      <td>0</td>\n",
       "    </tr>\n",
       "    <tr>\n",
       "      <th>Hughes</th>\n",
       "      <td>190</td>\n",
       "      <td>10</td>\n",
       "      <td>718</td>\n",
       "      <td>0</td>\n",
       "    </tr>\n",
       "  </tbody>\n",
       "</table>\n",
       "</div>"
      ],
      "text/plain": [
       "Aircraft.damage  Destroyed  Minor  Substantial  Unknown\n",
       "Make                                                   \n",
       "Cessna                5202    387        21268       38\n",
       "Piper                 3428    204        11100       15\n",
       "Beech                 1585    170         3539        5\n",
       "Bell                   708     47         1900        5\n",
       "Boeing                 170    711          739       11\n",
       "Mooney                 373     24          923        3\n",
       "Robinson               282      8          916        4\n",
       "Grumman                299     18          845        0\n",
       "Bellanca               233      7          800        0\n",
       "Hughes                 190     10          718        0"
      ]
     },
     "execution_count": 118,
     "metadata": {},
     "output_type": "execute_result"
    }
   ],
   "source": [
    "#Group make and aircraft damage data to create a bar chart of damage across airplane makes\n",
    "damage_by_make = df_new.groupby(['Make','Aircraft.damage']).size().unstack(fill_value=0)\n",
    "damage_by_make['Total']= damage_by_make.sum(axis=1)\n",
    "damage_by_make_sorted = damage_by_make.sort_values(by='Total',ascending=False)\n",
    "top_10_damage_by_make = damage_by_make_sorted.head(10)\n",
    "top_10_damage_by_make = top_10_damage_by_make.drop(columns=['Total'])\n",
    "top_10_damage_by_make"
   ]
  },
  {
   "cell_type": "code",
   "execution_count": 119,
   "id": "74a5564e",
   "metadata": {},
   "outputs": [
    {
     "name": "stdout",
     "output_type": "stream",
     "text": [
      "Aircraft.damage  Destroyed  Substantial      Minor\n",
      "Make                                              \n",
      "Cessna           19.341885    79.077896   1.438929\n",
      "Piper            23.245406    75.269546   1.383332\n",
      "Beech            29.911304    66.786186   3.208152\n",
      "Bell             26.616541    71.428571   1.766917\n",
      "Boeing           10.423053    45.309626  43.592888\n",
      "Mooney           28.193500    69.765684   1.814059\n",
      "Robinson         23.305785    75.702479   0.661157\n",
      "Grumman          25.731497    72.719449   1.549053\n",
      "Bellanca         22.403846    76.923077   0.673077\n",
      "Hughes           20.697168    78.213508   1.089325\n"
     ]
    }
   ],
   "source": [
    "# Convert values into percentages so you can compare damage in an apples to apples comparison\n",
    "\n",
    "# Find the sum of the row\n",
    "row_sums = top_10_damage_by_make.sum(axis=1)\n",
    "\n",
    "# Divide each value by its row sum and multiply by 100\n",
    "top_10_damage_by_make_percentage = top_10_damage_by_make.div(row_sums, axis=0) * 100\n",
    "\n",
    "column_order = ['Destroyed','Substantial','Minor']\n",
    "\n",
    "top_10_damage_by_make_percentage = top_10_damage_by_make_percentage.loc[:,column_order]\n",
    "\n",
    "# Display the resulting DataFrame\n",
    "print(top_10_damage_by_make_percentage)\n"
   ]
  },
  {
   "cell_type": "code",
   "execution_count": 120,
   "id": "0f348d95",
   "metadata": {},
   "outputs": [
    {
     "data": {
      "image/png": "[encoded data removed]",
      "text/plain": [
       "<Figure size 640x480 with 1 Axes>"
      ]
     },
     "metadata": {},
     "output_type": "display_data"
    }
   ],
   "source": [
    "#Visulize the top 10 airplane makes by severity of damage\n",
    "\n",
    "top_10_damage_by_make_percentage.plot(kind='bar',stacked=True)\n",
    "plt.legend(bbox_to_anchor=(1.29,1),loc='upper right',borderaxespad=0)\n",
    "\n",
    "plt.show()"
   ]
  },
  {
   "cell_type": "markdown",
   "id": "7d153474",
   "metadata": {},
   "source": [
    "Takaways from the above graph\n",
    "- Beech has the highest % of destroyed aircrafts\n",
    "- Cessna has the highest % of substantially damaged aircrafts\n",
    "- Boeing seems to have the safest planes with the highest % of minor damage"
   ]
  },
  {
   "cell_type": "code",
   "execution_count": 121,
   "id": "157b6c46",
   "metadata": {},
   "outputs": [
    {
     "data": {
      "text/plain": [
       "0        1948-10-24\n",
       "1        1962-07-19\n",
       "2        1974-08-30\n",
       "3        1977-06-19\n",
       "4        1979-08-02\n",
       "            ...    \n",
       "88884    2022-12-26\n",
       "88885    2022-12-26\n",
       "88886    2022-12-26\n",
       "88887    2022-12-26\n",
       "88888    2022-12-29\n",
       "Name: Event.Date, Length: 88889, dtype: object"
      ]
     },
     "execution_count": 121,
     "metadata": {},
     "output_type": "execute_result"
    }
   ],
   "source": [
    "df_new['Event.Date']"
   ]
  },
  {
   "cell_type": "code",
   "execution_count": 122,
   "id": "34d1ced2",
   "metadata": {},
   "outputs": [],
   "source": [
    "#Converting the event date column to a date dtype and extracting the year and month\n",
    "\n",
    "df_new['Event.Date'] = pd.to_datetime(df['Event.Date'])\n",
    "df_new['Year'] = df_new['Event.Date'].dt.year\n",
    "df_new['Month'] = df_new['Event.Date'].dt.month"
   ]
  },
  {
   "cell_type": "code",
   "execution_count": 123,
   "id": "514a85a5",
   "metadata": {},
   "outputs": [
    {
     "data": {
      "text/plain": [
       "Year\n",
       "1982    3593\n",
       "1983    3556\n",
       "1984    3457\n",
       "1985    3096\n",
       "1986    2880\n",
       "1987    2828\n",
       "1988    2730\n",
       "1989    2544\n",
       "1990    2518\n",
       "1991    2462\n",
       "1992    2355\n",
       "1993    2313\n",
       "1994    2257\n",
       "1995    2309\n",
       "1996    2187\n",
       "1997    2148\n",
       "1998    2226\n",
       "1999    2209\n",
       "2000    2220\n",
       "2001    2063\n",
       "2002    2020\n",
       "2003    2085\n",
       "2004    1952\n",
       "2005    2031\n",
       "2006    1851\n",
       "2007    2016\n",
       "2008    1893\n",
       "2009    1783\n",
       "2010    1786\n",
       "2011    1850\n",
       "2012    1835\n",
       "2013    1561\n",
       "2014    1535\n",
       "2015    1582\n",
       "2016    1664\n",
       "2017    1638\n",
       "2018    1681\n",
       "2019    1624\n",
       "2020    1392\n",
       "2021    1545\n",
       "2022    1607\n",
       "dtype: int64"
      ]
     },
     "execution_count": 123,
     "metadata": {},
     "output_type": "execute_result"
    }
   ],
   "source": [
    "#drop values before 1982 since there is limited data\n",
    "\n",
    "df_new = df_new[df_new['Year'] >=1982]\n",
    "df_new['Year']\n",
    "\n",
    "#Group by year and sum number of crashes \n",
    "yearly_crashes = df_new.groupby('Year').size()\n",
    "yearly_crashes"
   ]
  },
  {
   "cell_type": "code",
   "execution_count": 124,
   "id": "f45227c4",
   "metadata": {},
   "outputs": [
    {
     "data": {
      "text/plain": [
       "[<matplotlib.lines.Line2D at 0x1f6b86c2c10>]"
      ]
     },
     "execution_count": 124,
     "metadata": {},
     "output_type": "execute_result"
    },
    {
     "data": {
      "image/png": "[encoded data removed]",
      "text/plain": [
       "<Figure size 1000x600 with 1 Axes>"
      ]
     },
     "metadata": {},
     "output_type": "display_data"
    }
   ],
   "source": [
    "#crashes over the years\n",
    "\n",
    "plt.figure(figsize=(10, 6))  # You can adjust the size as needed\n",
    "plt.plot(yearly_crashes.index, yearly_crashes.values, marker='o')  # 'o' adds circle markers"
   ]
  },
  {
   "cell_type": "code",
   "execution_count": 125,
   "id": "87787163",
   "metadata": {},
   "outputs": [
    {
     "data": {
      "text/plain": [
       "Event.Id                      0\n",
       "Investigation.Type            0\n",
       "Accident.Number               0\n",
       "Event.Date                    0\n",
       "Location                     52\n",
       "Country                     226\n",
       "Injury.Severity            1000\n",
       "Aircraft.damage            3194\n",
       "Registration.Number        1382\n",
       "Make                         63\n",
       "Model                        92\n",
       "Amateur.Built               102\n",
       "Number.of.Engines          6083\n",
       "Engine.Type                7095\n",
       "Purpose.of.flight          6191\n",
       "Total.Fatal.Injuries      11400\n",
       "Total.Serious.Injuries    12508\n",
       "Total.Minor.Injuries      11931\n",
       "Total.Uninjured            5911\n",
       "Weather.Condition          4492\n",
       "Report.Status              6384\n",
       "Publication.Date          13770\n",
       "Year                          0\n",
       "Month                         0\n",
       "dtype: int64"
      ]
     },
     "execution_count": 125,
     "metadata": {},
     "output_type": "execute_result"
    }
   ],
   "source": [
    "df_new.isna().sum()"
   ]
  },
  {
   "cell_type": "code",
   "execution_count": 126,
   "id": "0978f2d5",
   "metadata": {},
   "outputs": [
    {
     "name": "stdout",
     "output_type": "stream",
     "text": [
      "[77301  5973  1116]\n"
     ]
    }
   ],
   "source": [
    "#Exploring Weather Data \n",
    "\n",
    "weather_group = df_new['Weather.Condition'].value_counts()\n",
    "print(weather_group.values)"
   ]
  },
  {
   "cell_type": "code",
   "execution_count": 127,
   "id": "edb938bd",
   "metadata": {},
   "outputs": [
    {
     "name": "stderr",
     "output_type": "stream",
     "text": [
      "C:\\Users\\alecs\\anaconda3\\Lib\\site-packages\\seaborn\\_oldcore.py:1498: FutureWarning: is_categorical_dtype is deprecated and will be removed in a future version. Use isinstance(dtype, CategoricalDtype) instead\n",
      "  if pd.api.types.is_categorical_dtype(vector):\n",
      "C:\\Users\\alecs\\anaconda3\\Lib\\site-packages\\seaborn\\_oldcore.py:1498: FutureWarning: is_categorical_dtype is deprecated and will be removed in a future version. Use isinstance(dtype, CategoricalDtype) instead\n",
      "  if pd.api.types.is_categorical_dtype(vector):\n",
      "C:\\Users\\alecs\\anaconda3\\Lib\\site-packages\\seaborn\\_oldcore.py:1498: FutureWarning: is_categorical_dtype is deprecated and will be removed in a future version. Use isinstance(dtype, CategoricalDtype) instead\n",
      "  if pd.api.types.is_categorical_dtype(vector):\n"
     ]
    },
    {
     "data": {
      "text/plain": [
       "<Axes: xlabel='Weather.Condition'>"
      ]
     },
     "execution_count": 127,
     "metadata": {},
     "output_type": "execute_result"
    },
    {
     "data": {
      "image/png": "[encoded data removed]",
      "text/plain": [
       "<Figure size 640x480 with 1 Axes>"
      ]
     },
     "metadata": {},
     "output_type": "display_data"
    }
   ],
   "source": [
    "sns.barplot(x=weather_group.index, y=weather_group.values)\n"
   ]
  },
  {
   "cell_type": "code",
   "execution_count": 128,
   "id": "2aebeecc",
   "metadata": {},
   "outputs": [
    {
     "data": {
      "text/plain": [
       "Total.Fatal.Injuries\n",
       "0.0      59675\n",
       "1.0       8882\n",
       "2.0       5171\n",
       "3.0       1588\n",
       "4.0       1101\n",
       "         ...  \n",
       "156.0        1\n",
       "68.0         1\n",
       "31.0         1\n",
       "115.0        1\n",
       "176.0        1\n",
       "Name: count, Length: 125, dtype: int64"
      ]
     },
     "execution_count": 128,
     "metadata": {},
     "output_type": "execute_result"
    }
   ],
   "source": [
    "df_new['Total.Fatal.Injuries'].value_counts()"
   ]
  },
  {
   "cell_type": "code",
   "execution_count": 129,
   "id": "83780eca",
   "metadata": {},
   "outputs": [
    {
     "data": {
      "text/html": [
       "<div>\n",
       "<style scoped>\n",
       "    .dataframe tbody tr th:only-of-type {\n",
       "        vertical-align: middle;\n",
       "    }\n",
       "\n",
       "    .dataframe tbody tr th {\n",
       "        vertical-align: top;\n",
       "    }\n",
       "\n",
       "    .dataframe thead th {\n",
       "        text-align: right;\n",
       "    }\n",
       "</style>\n",
       "<table border=\"1\" class=\"dataframe\">\n",
       "  <thead>\n",
       "    <tr style=\"text-align: right;\">\n",
       "      <th></th>\n",
       "      <th>Total.Fatal.Injuries</th>\n",
       "      <th>Total.Serious.Injuries</th>\n",
       "      <th>Total.Minor.Injuries</th>\n",
       "      <th>Total.Uninjured</th>\n",
       "    </tr>\n",
       "    <tr>\n",
       "      <th>Make</th>\n",
       "      <th></th>\n",
       "      <th></th>\n",
       "      <th></th>\n",
       "      <th></th>\n",
       "    </tr>\n",
       "  </thead>\n",
       "  <tbody>\n",
       "    <tr>\n",
       "      <th>Cessna</th>\n",
       "      <td>23809</td>\n",
       "      <td>23450</td>\n",
       "      <td>23725</td>\n",
       "      <td>25698</td>\n",
       "    </tr>\n",
       "    <tr>\n",
       "      <th>Piper</th>\n",
       "      <td>13194</td>\n",
       "      <td>12933</td>\n",
       "      <td>13004</td>\n",
       "      <td>14015</td>\n",
       "    </tr>\n",
       "    <tr>\n",
       "      <th>Beech</th>\n",
       "      <td>4795</td>\n",
       "      <td>4609</td>\n",
       "      <td>4620</td>\n",
       "      <td>4933</td>\n",
       "    </tr>\n",
       "    <tr>\n",
       "      <th>Bell</th>\n",
       "      <td>2352</td>\n",
       "      <td>2339</td>\n",
       "      <td>2360</td>\n",
       "      <td>2501</td>\n",
       "    </tr>\n",
       "    <tr>\n",
       "      <th>Boeing</th>\n",
       "      <td>2270</td>\n",
       "      <td>2313</td>\n",
       "      <td>2289</td>\n",
       "      <td>2581</td>\n",
       "    </tr>\n",
       "    <tr>\n",
       "      <th>Mooney</th>\n",
       "      <td>1157</td>\n",
       "      <td>1125</td>\n",
       "      <td>1147</td>\n",
       "      <td>1225</td>\n",
       "    </tr>\n",
       "    <tr>\n",
       "      <th>Grumman</th>\n",
       "      <td>1077</td>\n",
       "      <td>1073</td>\n",
       "      <td>1081</td>\n",
       "      <td>1128</td>\n",
       "    </tr>\n",
       "    <tr>\n",
       "      <th>Robinson</th>\n",
       "      <td>958</td>\n",
       "      <td>917</td>\n",
       "      <td>942</td>\n",
       "      <td>1083</td>\n",
       "    </tr>\n",
       "    <tr>\n",
       "      <th>Bellanca</th>\n",
       "      <td>924</td>\n",
       "      <td>919</td>\n",
       "      <td>936</td>\n",
       "      <td>988</td>\n",
       "    </tr>\n",
       "    <tr>\n",
       "      <th>Hughes</th>\n",
       "      <td>788</td>\n",
       "      <td>798</td>\n",
       "      <td>809</td>\n",
       "      <td>870</td>\n",
       "    </tr>\n",
       "  </tbody>\n",
       "</table>\n",
       "</div>"
      ],
      "text/plain": [
       "          Total.Fatal.Injuries  Total.Serious.Injuries  Total.Minor.Injuries  \\\n",
       "Make                                                                           \n",
       "Cessna                   23809                   23450                 23725   \n",
       "Piper                    13194                   12933                 13004   \n",
       "Beech                     4795                    4609                  4620   \n",
       "Bell                      2352                    2339                  2360   \n",
       "Boeing                    2270                    2313                  2289   \n",
       "Mooney                    1157                    1125                  1147   \n",
       "Grumman                   1077                    1073                  1081   \n",
       "Robinson                   958                     917                   942   \n",
       "Bellanca                   924                     919                   936   \n",
       "Hughes                     788                     798                   809   \n",
       "\n",
       "          Total.Uninjured  \n",
       "Make                       \n",
       "Cessna              25698  \n",
       "Piper               14015  \n",
       "Beech                4933  \n",
       "Bell                 2501  \n",
       "Boeing               2581  \n",
       "Mooney               1225  \n",
       "Grumman              1128  \n",
       "Robinson             1083  \n",
       "Bellanca              988  \n",
       "Hughes                870  "
      ]
     },
     "execution_count": 129,
     "metadata": {},
     "output_type": "execute_result"
    }
   ],
   "source": [
    "# Exploring crashes with serious / fatal injuries vs Total.Fatal.Injuries',\n",
    "#'Total.Serious.Injuries', 'Total.Minor.Injuries', 'Total.Uninjured\n",
    "\n",
    "injuries = df_new.groupby('Make')[['Total.Fatal.Injuries',\n",
    "'Total.Serious.Injuries', 'Total.Minor.Injuries', 'Total.Uninjured']].count()\n",
    "\n",
    "#identify top 10 makes by injuries\n",
    "injuries['Total'] = injuries.sum(axis=1)\n",
    "injuries_sorted = injuries.sort_values(by=['Total'],ascending=False)\n",
    "injuries_sorted_top_10 = injuries_sorted.head(10)\n",
    "injuries_sorted_top_10_final= injuries_sorted_top_10.drop(columns=['Total'])\n",
    "\n",
    "\n",
    "injuries_sorted_top_10_final"
   ]
  },
  {
   "cell_type": "code",
   "execution_count": 130,
   "id": "6dff99e7",
   "metadata": {},
   "outputs": [
    {
     "data": {
      "text/html": [
       "<div>\n",
       "<style scoped>\n",
       "    .dataframe tbody tr th:only-of-type {\n",
       "        vertical-align: middle;\n",
       "    }\n",
       "\n",
       "    .dataframe tbody tr th {\n",
       "        vertical-align: top;\n",
       "    }\n",
       "\n",
       "    .dataframe thead th {\n",
       "        text-align: right;\n",
       "    }\n",
       "</style>\n",
       "<table border=\"1\" class=\"dataframe\">\n",
       "  <thead>\n",
       "    <tr style=\"text-align: right;\">\n",
       "      <th></th>\n",
       "      <th>Total.Fatal.Injuries</th>\n",
       "      <th>Total.Serious.Injuries</th>\n",
       "      <th>Total.Minor.Injuries</th>\n",
       "      <th>Total.Uninjured</th>\n",
       "    </tr>\n",
       "    <tr>\n",
       "      <th>Make</th>\n",
       "      <th></th>\n",
       "      <th></th>\n",
       "      <th></th>\n",
       "      <th></th>\n",
       "    </tr>\n",
       "  </thead>\n",
       "  <tbody>\n",
       "    <tr>\n",
       "      <th>Cessna</th>\n",
       "      <td>0.246261</td>\n",
       "      <td>0.242548</td>\n",
       "      <td>0.245392</td>\n",
       "      <td>0.265799</td>\n",
       "    </tr>\n",
       "    <tr>\n",
       "      <th>Piper</th>\n",
       "      <td>0.248260</td>\n",
       "      <td>0.243349</td>\n",
       "      <td>0.244684</td>\n",
       "      <td>0.263708</td>\n",
       "    </tr>\n",
       "    <tr>\n",
       "      <th>Beech</th>\n",
       "      <td>0.252941</td>\n",
       "      <td>0.243129</td>\n",
       "      <td>0.243709</td>\n",
       "      <td>0.260220</td>\n",
       "    </tr>\n",
       "    <tr>\n",
       "      <th>Bell</th>\n",
       "      <td>0.246231</td>\n",
       "      <td>0.244870</td>\n",
       "      <td>0.247069</td>\n",
       "      <td>0.261830</td>\n",
       "    </tr>\n",
       "    <tr>\n",
       "      <th>Boeing</th>\n",
       "      <td>0.240135</td>\n",
       "      <td>0.244684</td>\n",
       "      <td>0.242145</td>\n",
       "      <td>0.273035</td>\n",
       "    </tr>\n",
       "    <tr>\n",
       "      <th>Mooney</th>\n",
       "      <td>0.248603</td>\n",
       "      <td>0.241728</td>\n",
       "      <td>0.246455</td>\n",
       "      <td>0.263214</td>\n",
       "    </tr>\n",
       "    <tr>\n",
       "      <th>Grumman</th>\n",
       "      <td>0.247075</td>\n",
       "      <td>0.246157</td>\n",
       "      <td>0.247993</td>\n",
       "      <td>0.258775</td>\n",
       "    </tr>\n",
       "    <tr>\n",
       "      <th>Robinson</th>\n",
       "      <td>0.245641</td>\n",
       "      <td>0.235128</td>\n",
       "      <td>0.241538</td>\n",
       "      <td>0.277692</td>\n",
       "    </tr>\n",
       "    <tr>\n",
       "      <th>Bellanca</th>\n",
       "      <td>0.245288</td>\n",
       "      <td>0.243961</td>\n",
       "      <td>0.248474</td>\n",
       "      <td>0.262278</td>\n",
       "    </tr>\n",
       "    <tr>\n",
       "      <th>Hughes</th>\n",
       "      <td>0.241348</td>\n",
       "      <td>0.244410</td>\n",
       "      <td>0.247779</td>\n",
       "      <td>0.266462</td>\n",
       "    </tr>\n",
       "  </tbody>\n",
       "</table>\n",
       "</div>"
      ],
      "text/plain": [
       "          Total.Fatal.Injuries  Total.Serious.Injuries  Total.Minor.Injuries  \\\n",
       "Make                                                                           \n",
       "Cessna                0.246261                0.242548              0.245392   \n",
       "Piper                 0.248260                0.243349              0.244684   \n",
       "Beech                 0.252941                0.243129              0.243709   \n",
       "Bell                  0.246231                0.244870              0.247069   \n",
       "Boeing                0.240135                0.244684              0.242145   \n",
       "Mooney                0.248603                0.241728              0.246455   \n",
       "Grumman               0.247075                0.246157              0.247993   \n",
       "Robinson              0.245641                0.235128              0.241538   \n",
       "Bellanca              0.245288                0.243961              0.248474   \n",
       "Hughes                0.241348                0.244410              0.247779   \n",
       "\n",
       "          Total.Uninjured  \n",
       "Make                       \n",
       "Cessna           0.265799  \n",
       "Piper            0.263708  \n",
       "Beech            0.260220  \n",
       "Bell             0.261830  \n",
       "Boeing           0.273035  \n",
       "Mooney           0.263214  \n",
       "Grumman          0.258775  \n",
       "Robinson         0.277692  \n",
       "Bellanca         0.262278  \n",
       "Hughes           0.266462  "
      ]
     },
     "execution_count": 130,
     "metadata": {},
     "output_type": "execute_result"
    }
   ],
   "source": [
    "# Convert values into percentages for an easy comparative visual\n",
    "\n",
    "Total = injuries_sorted_top_10_final.sum(axis = 1)\n",
    "\n",
    "injuries_percentage = injuries_sorted_top_10_final.div(Total,axis=0)\n",
    "injuries_percentage"
   ]
  },
  {
   "cell_type": "code",
   "execution_count": 131,
   "id": "d93e78bb",
   "metadata": {
    "scrolled": true
   },
   "outputs": [
    {
     "data": {
      "text/plain": [
       "Text(0, 0.5, 'Percentage of Type of Injuries')"
      ]
     },
     "execution_count": 131,
     "metadata": {},
     "output_type": "execute_result"
    },
    {
     "data": {
      "image/png": "[encoded data removed]",
      "text/plain": [
       "<Figure size 640x480 with 1 Axes>"
      ]
     },
     "metadata": {},
     "output_type": "display_data"
    }
   ],
   "source": [
    "\n",
    "ax= injuries_percentage.plot(kind='bar',stacked='True')\n",
    "ax.legend(loc='center left', bbox_to_anchor=(1, .85), ncol=1)\n",
    "plt.xlabel('Airplane Make')\n",
    "plt.ylabel('Percentage of Type of Injuries')"
   ]
  },
  {
   "cell_type": "markdown",
   "id": "6d6c7928",
   "metadata": {},
   "source": [
    "Graph Takeaways \n",
    "- There seems to be little difference in the % of injuries sustained across airplane makes"
   ]
  },
  {
   "cell_type": "markdown",
   "id": "9a61c6bc",
   "metadata": {},
   "source": [
    "Let's explore if there are certain models for each make that have a higher % of substanstial injuries"
   ]
  },
  {
   "cell_type": "code",
   "execution_count": 132,
   "id": "7326b5d0",
   "metadata": {},
   "outputs": [
    {
     "data": {
      "text/html": [
       "<div>\n",
       "<style scoped>\n",
       "    .dataframe tbody tr th:only-of-type {\n",
       "        vertical-align: middle;\n",
       "    }\n",
       "\n",
       "    .dataframe tbody tr th {\n",
       "        vertical-align: top;\n",
       "    }\n",
       "\n",
       "    .dataframe thead th {\n",
       "        text-align: right;\n",
       "    }\n",
       "</style>\n",
       "<table border=\"1\" class=\"dataframe\">\n",
       "  <thead>\n",
       "    <tr style=\"text-align: right;\">\n",
       "      <th></th>\n",
       "      <th>Event.Id</th>\n",
       "      <th>Investigation.Type</th>\n",
       "      <th>Accident.Number</th>\n",
       "      <th>Event.Date</th>\n",
       "      <th>Location</th>\n",
       "      <th>Country</th>\n",
       "      <th>Injury.Severity</th>\n",
       "      <th>Aircraft.damage</th>\n",
       "      <th>Registration.Number</th>\n",
       "      <th>Make</th>\n",
       "      <th>...</th>\n",
       "      <th>Purpose.of.flight</th>\n",
       "      <th>Total.Fatal.Injuries</th>\n",
       "      <th>Total.Serious.Injuries</th>\n",
       "      <th>Total.Minor.Injuries</th>\n",
       "      <th>Total.Uninjured</th>\n",
       "      <th>Weather.Condition</th>\n",
       "      <th>Report.Status</th>\n",
       "      <th>Publication.Date</th>\n",
       "      <th>Year</th>\n",
       "      <th>Month</th>\n",
       "    </tr>\n",
       "  </thead>\n",
       "  <tbody>\n",
       "    <tr>\n",
       "      <th>7</th>\n",
       "      <td>20020909X01562</td>\n",
       "      <td>Accident</td>\n",
       "      <td>SEA82DA022</td>\n",
       "      <td>1982-01-01</td>\n",
       "      <td>PULLMAN, WA</td>\n",
       "      <td>United States</td>\n",
       "      <td>Non-Fatal</td>\n",
       "      <td>Substantial</td>\n",
       "      <td>N2482N</td>\n",
       "      <td>Cessna</td>\n",
       "      <td>...</td>\n",
       "      <td>Personal</td>\n",
       "      <td>0.0</td>\n",
       "      <td>0.0</td>\n",
       "      <td>0.0</td>\n",
       "      <td>2.0</td>\n",
       "      <td>Vmc</td>\n",
       "      <td>Probable Cause</td>\n",
       "      <td>01-01-1982</td>\n",
       "      <td>1982</td>\n",
       "      <td>1</td>\n",
       "    </tr>\n",
       "    <tr>\n",
       "      <th>8</th>\n",
       "      <td>20020909X01561</td>\n",
       "      <td>Accident</td>\n",
       "      <td>NYC82DA015</td>\n",
       "      <td>1982-01-01</td>\n",
       "      <td>EAST HANOVER, NJ</td>\n",
       "      <td>United States</td>\n",
       "      <td>Non-Fatal</td>\n",
       "      <td>Substantial</td>\n",
       "      <td>N7967Q</td>\n",
       "      <td>Cessna</td>\n",
       "      <td>...</td>\n",
       "      <td>Business</td>\n",
       "      <td>0.0</td>\n",
       "      <td>0.0</td>\n",
       "      <td>0.0</td>\n",
       "      <td>2.0</td>\n",
       "      <td>Imc</td>\n",
       "      <td>Probable Cause</td>\n",
       "      <td>01-01-1982</td>\n",
       "      <td>1982</td>\n",
       "      <td>1</td>\n",
       "    </tr>\n",
       "    <tr>\n",
       "      <th>13</th>\n",
       "      <td>20020917X02134</td>\n",
       "      <td>Accident</td>\n",
       "      <td>FTW82FRA14</td>\n",
       "      <td>1982-01-02</td>\n",
       "      <td>HEARNE, TX</td>\n",
       "      <td>United States</td>\n",
       "      <td>Fatal(1)</td>\n",
       "      <td>Destroyed</td>\n",
       "      <td>N758SK</td>\n",
       "      <td>Cessna</td>\n",
       "      <td>...</td>\n",
       "      <td>Personal</td>\n",
       "      <td>1.0</td>\n",
       "      <td>0.0</td>\n",
       "      <td>0.0</td>\n",
       "      <td>0.0</td>\n",
       "      <td>Imc</td>\n",
       "      <td>Probable Cause</td>\n",
       "      <td>02-01-1983</td>\n",
       "      <td>1982</td>\n",
       "      <td>1</td>\n",
       "    </tr>\n",
       "    <tr>\n",
       "      <th>17</th>\n",
       "      <td>20020917X01656</td>\n",
       "      <td>Accident</td>\n",
       "      <td>ANC82FAG14</td>\n",
       "      <td>1982-01-02</td>\n",
       "      <td>SKWENTA, AK</td>\n",
       "      <td>United States</td>\n",
       "      <td>Fatal(3)</td>\n",
       "      <td>Destroyed</td>\n",
       "      <td>N7641A</td>\n",
       "      <td>Cessna</td>\n",
       "      <td>...</td>\n",
       "      <td>Personal</td>\n",
       "      <td>3.0</td>\n",
       "      <td>0.0</td>\n",
       "      <td>0.0</td>\n",
       "      <td>0.0</td>\n",
       "      <td>Vmc</td>\n",
       "      <td>Probable Cause</td>\n",
       "      <td>02-01-1983</td>\n",
       "      <td>1982</td>\n",
       "      <td>1</td>\n",
       "    </tr>\n",
       "    <tr>\n",
       "      <th>18</th>\n",
       "      <td>20020917X02481</td>\n",
       "      <td>Accident</td>\n",
       "      <td>NYC82DA016</td>\n",
       "      <td>1982-01-02</td>\n",
       "      <td>GALETON, PA</td>\n",
       "      <td>United States</td>\n",
       "      <td>Non-Fatal</td>\n",
       "      <td>Substantial</td>\n",
       "      <td>N25084</td>\n",
       "      <td>Cessna</td>\n",
       "      <td>...</td>\n",
       "      <td>Personal</td>\n",
       "      <td>0.0</td>\n",
       "      <td>0.0</td>\n",
       "      <td>0.0</td>\n",
       "      <td>1.0</td>\n",
       "      <td>Vmc</td>\n",
       "      <td>Probable Cause</td>\n",
       "      <td>02-01-1983</td>\n",
       "      <td>1982</td>\n",
       "      <td>1</td>\n",
       "    </tr>\n",
       "    <tr>\n",
       "      <th>...</th>\n",
       "      <td>...</td>\n",
       "      <td>...</td>\n",
       "      <td>...</td>\n",
       "      <td>...</td>\n",
       "      <td>...</td>\n",
       "      <td>...</td>\n",
       "      <td>...</td>\n",
       "      <td>...</td>\n",
       "      <td>...</td>\n",
       "      <td>...</td>\n",
       "      <td>...</td>\n",
       "      <td>...</td>\n",
       "      <td>...</td>\n",
       "      <td>...</td>\n",
       "      <td>...</td>\n",
       "      <td>...</td>\n",
       "      <td>...</td>\n",
       "      <td>...</td>\n",
       "      <td>...</td>\n",
       "      <td>...</td>\n",
       "      <td>...</td>\n",
       "    </tr>\n",
       "    <tr>\n",
       "      <th>88865</th>\n",
       "      <td>20221212106444</td>\n",
       "      <td>Accident</td>\n",
       "      <td>ERA23LA085</td>\n",
       "      <td>2022-12-12</td>\n",
       "      <td>Knoxville, TN</td>\n",
       "      <td>United States</td>\n",
       "      <td>Non-Fatal</td>\n",
       "      <td>Substantial</td>\n",
       "      <td>N783SF</td>\n",
       "      <td>Cessna</td>\n",
       "      <td>...</td>\n",
       "      <td>Instructional</td>\n",
       "      <td>0.0</td>\n",
       "      <td>0.0</td>\n",
       "      <td>0.0</td>\n",
       "      <td>1.0</td>\n",
       "      <td>Vmc</td>\n",
       "      <td>NaN</td>\n",
       "      <td>15-12-2022</td>\n",
       "      <td>2022</td>\n",
       "      <td>12</td>\n",
       "    </tr>\n",
       "    <tr>\n",
       "      <th>88871</th>\n",
       "      <td>20221220106480</td>\n",
       "      <td>Accident</td>\n",
       "      <td>WPR23LA072</td>\n",
       "      <td>2022-12-13</td>\n",
       "      <td>Liberal, KS</td>\n",
       "      <td>United States</td>\n",
       "      <td>Non-Fatal</td>\n",
       "      <td>NaN</td>\n",
       "      <td>N253SB</td>\n",
       "      <td>Cessna</td>\n",
       "      <td>...</td>\n",
       "      <td>NaN</td>\n",
       "      <td>0.0</td>\n",
       "      <td>0.0</td>\n",
       "      <td>0.0</td>\n",
       "      <td>0.0</td>\n",
       "      <td>NaN</td>\n",
       "      <td>NaN</td>\n",
       "      <td>20-12-2022</td>\n",
       "      <td>2022</td>\n",
       "      <td>12</td>\n",
       "    </tr>\n",
       "    <tr>\n",
       "      <th>88877</th>\n",
       "      <td>20221219106470</td>\n",
       "      <td>Accident</td>\n",
       "      <td>ERA23LA091</td>\n",
       "      <td>2022-12-16</td>\n",
       "      <td>Brooksville, FL</td>\n",
       "      <td>United States</td>\n",
       "      <td>Minor</td>\n",
       "      <td>Substantial</td>\n",
       "      <td>N5405V</td>\n",
       "      <td>Cessna</td>\n",
       "      <td>...</td>\n",
       "      <td>Personal</td>\n",
       "      <td>0.0</td>\n",
       "      <td>1.0</td>\n",
       "      <td>0.0</td>\n",
       "      <td>0.0</td>\n",
       "      <td>Vmc</td>\n",
       "      <td>NaN</td>\n",
       "      <td>23-12-2022</td>\n",
       "      <td>2022</td>\n",
       "      <td>12</td>\n",
       "    </tr>\n",
       "    <tr>\n",
       "      <th>88881</th>\n",
       "      <td>20221221106483</td>\n",
       "      <td>Accident</td>\n",
       "      <td>CEN23LA067</td>\n",
       "      <td>2022-12-21</td>\n",
       "      <td>Auburn Hills, MI</td>\n",
       "      <td>United States</td>\n",
       "      <td>Minor</td>\n",
       "      <td>NaN</td>\n",
       "      <td>N8786U</td>\n",
       "      <td>Cessna</td>\n",
       "      <td>...</td>\n",
       "      <td>Personal</td>\n",
       "      <td>0.0</td>\n",
       "      <td>1.0</td>\n",
       "      <td>0.0</td>\n",
       "      <td>0.0</td>\n",
       "      <td>NaN</td>\n",
       "      <td>NaN</td>\n",
       "      <td>22-12-2022</td>\n",
       "      <td>2022</td>\n",
       "      <td>12</td>\n",
       "    </tr>\n",
       "    <tr>\n",
       "      <th>88887</th>\n",
       "      <td>20221227106498</td>\n",
       "      <td>Accident</td>\n",
       "      <td>WPR23LA076</td>\n",
       "      <td>2022-12-26</td>\n",
       "      <td>Morgan, UT</td>\n",
       "      <td>United States</td>\n",
       "      <td>NaN</td>\n",
       "      <td>NaN</td>\n",
       "      <td>N210CU</td>\n",
       "      <td>Cessna</td>\n",
       "      <td>...</td>\n",
       "      <td>Personal</td>\n",
       "      <td>0.0</td>\n",
       "      <td>0.0</td>\n",
       "      <td>0.0</td>\n",
       "      <td>0.0</td>\n",
       "      <td>NaN</td>\n",
       "      <td>NaN</td>\n",
       "      <td>NaN</td>\n",
       "      <td>2022</td>\n",
       "      <td>12</td>\n",
       "    </tr>\n",
       "  </tbody>\n",
       "</table>\n",
       "<p>27146 rows × 24 columns</p>\n",
       "</div>"
      ],
      "text/plain": [
       "             Event.Id Investigation.Type Accident.Number Event.Date  \\\n",
       "7      20020909X01562           Accident      SEA82DA022 1982-01-01   \n",
       "8      20020909X01561           Accident      NYC82DA015 1982-01-01   \n",
       "13     20020917X02134           Accident      FTW82FRA14 1982-01-02   \n",
       "17     20020917X01656           Accident      ANC82FAG14 1982-01-02   \n",
       "18     20020917X02481           Accident      NYC82DA016 1982-01-02   \n",
       "...               ...                ...             ...        ...   \n",
       "88865  20221212106444           Accident      ERA23LA085 2022-12-12   \n",
       "88871  20221220106480           Accident      WPR23LA072 2022-12-13   \n",
       "88877  20221219106470           Accident      ERA23LA091 2022-12-16   \n",
       "88881  20221221106483           Accident      CEN23LA067 2022-12-21   \n",
       "88887  20221227106498           Accident      WPR23LA076 2022-12-26   \n",
       "\n",
       "               Location        Country Injury.Severity Aircraft.damage  \\\n",
       "7           PULLMAN, WA  United States       Non-Fatal     Substantial   \n",
       "8      EAST HANOVER, NJ  United States       Non-Fatal     Substantial   \n",
       "13           HEARNE, TX  United States        Fatal(1)       Destroyed   \n",
       "17          SKWENTA, AK  United States        Fatal(3)       Destroyed   \n",
       "18          GALETON, PA  United States       Non-Fatal     Substantial   \n",
       "...                 ...            ...             ...             ...   \n",
       "88865     Knoxville, TN  United States       Non-Fatal     Substantial   \n",
       "88871       Liberal, KS  United States       Non-Fatal             NaN   \n",
       "88877   Brooksville, FL  United States           Minor     Substantial   \n",
       "88881  Auburn Hills, MI  United States           Minor             NaN   \n",
       "88887        Morgan, UT  United States             NaN             NaN   \n",
       "\n",
       "      Registration.Number    Make  ... Purpose.of.flight Total.Fatal.Injuries  \\\n",
       "7                  N2482N  Cessna  ...          Personal                  0.0   \n",
       "8                  N7967Q  Cessna  ...          Business                  0.0   \n",
       "13                 N758SK  Cessna  ...          Personal                  1.0   \n",
       "17                 N7641A  Cessna  ...          Personal                  3.0   \n",
       "18                 N25084  Cessna  ...          Personal                  0.0   \n",
       "...                   ...     ...  ...               ...                  ...   \n",
       "88865              N783SF  Cessna  ...     Instructional                  0.0   \n",
       "88871              N253SB  Cessna  ...               NaN                  0.0   \n",
       "88877              N5405V  Cessna  ...          Personal                  0.0   \n",
       "88881              N8786U  Cessna  ...          Personal                  0.0   \n",
       "88887              N210CU  Cessna  ...          Personal                  0.0   \n",
       "\n",
       "       Total.Serious.Injuries Total.Minor.Injuries Total.Uninjured  \\\n",
       "7                         0.0                  0.0             2.0   \n",
       "8                         0.0                  0.0             2.0   \n",
       "13                        0.0                  0.0             0.0   \n",
       "17                        0.0                  0.0             0.0   \n",
       "18                        0.0                  0.0             1.0   \n",
       "...                       ...                  ...             ...   \n",
       "88865                     0.0                  0.0             1.0   \n",
       "88871                     0.0                  0.0             0.0   \n",
       "88877                     1.0                  0.0             0.0   \n",
       "88881                     1.0                  0.0             0.0   \n",
       "88887                     0.0                  0.0             0.0   \n",
       "\n",
       "       Weather.Condition   Report.Status  Publication.Date  Year Month  \n",
       "7                    Vmc  Probable Cause        01-01-1982  1982     1  \n",
       "8                    Imc  Probable Cause        01-01-1982  1982     1  \n",
       "13                   Imc  Probable Cause        02-01-1983  1982     1  \n",
       "17                   Vmc  Probable Cause        02-01-1983  1982     1  \n",
       "18                   Vmc  Probable Cause        02-01-1983  1982     1  \n",
       "...                  ...             ...               ...   ...   ...  \n",
       "88865                Vmc             NaN        15-12-2022  2022    12  \n",
       "88871                NaN             NaN        20-12-2022  2022    12  \n",
       "88877                Vmc             NaN        23-12-2022  2022    12  \n",
       "88881                NaN             NaN        22-12-2022  2022    12  \n",
       "88887                NaN             NaN               NaN  2022    12  \n",
       "\n",
       "[27146 rows x 24 columns]"
      ]
     },
     "execution_count": 132,
     "metadata": {},
     "output_type": "execute_result"
    }
   ],
   "source": [
    "#Creating a for loop to produce graphs of models for each airplane make \n",
    "\n",
    "cessna = df_new['Make'] == \"Cessna\"\n",
    "cessna_df = df_new[cessna]\n",
    "cessna_df"
   ]
  },
  {
   "cell_type": "code",
   "execution_count": 133,
   "id": "9a985d57",
   "metadata": {},
   "outputs": [
    {
     "data": {
      "text/plain": [
       "Model\n",
       "152         2366\n",
       "172         1753\n",
       "172N        1163\n",
       "150          829\n",
       "172M         797\n",
       "            ... \n",
       "TR182 II       1\n",
       "A185H          1\n",
       "152F           1\n",
       "182TD          1\n",
       "T206G          1\n",
       "Name: count, Length: 833, dtype: int64"
      ]
     },
     "execution_count": 133,
     "metadata": {},
     "output_type": "execute_result"
    }
   ],
   "source": [
    "cessna_df['Model'].value_counts()"
   ]
  },
  {
   "cell_type": "code",
   "execution_count": 134,
   "id": "95b7afd8",
   "metadata": {},
   "outputs": [
    {
     "data": {
      "text/html": [
       "<div>\n",
       "<style scoped>\n",
       "    .dataframe tbody tr th:only-of-type {\n",
       "        vertical-align: middle;\n",
       "    }\n",
       "\n",
       "    .dataframe tbody tr th {\n",
       "        vertical-align: top;\n",
       "    }\n",
       "\n",
       "    .dataframe thead th {\n",
       "        text-align: right;\n",
       "    }\n",
       "</style>\n",
       "<table border=\"1\" class=\"dataframe\">\n",
       "  <thead>\n",
       "    <tr style=\"text-align: right;\">\n",
       "      <th></th>\n",
       "      <th>Total.Fatal.Injuries</th>\n",
       "      <th>Total.Serious.Injuries</th>\n",
       "    </tr>\n",
       "    <tr>\n",
       "      <th>Model</th>\n",
       "      <th></th>\n",
       "      <th></th>\n",
       "    </tr>\n",
       "  </thead>\n",
       "  <tbody>\n",
       "    <tr>\n",
       "      <th>152</th>\n",
       "      <td>2147</td>\n",
       "      <td>2139</td>\n",
       "    </tr>\n",
       "    <tr>\n",
       "      <th>172</th>\n",
       "      <td>1630</td>\n",
       "      <td>1620</td>\n",
       "    </tr>\n",
       "    <tr>\n",
       "      <th>172N</th>\n",
       "      <td>990</td>\n",
       "      <td>969</td>\n",
       "    </tr>\n",
       "    <tr>\n",
       "      <th>150</th>\n",
       "      <td>774</td>\n",
       "      <td>781</td>\n",
       "    </tr>\n",
       "    <tr>\n",
       "      <th>172M</th>\n",
       "      <td>679</td>\n",
       "      <td>685</td>\n",
       "    </tr>\n",
       "    <tr>\n",
       "      <th>182</th>\n",
       "      <td>610</td>\n",
       "      <td>604</td>\n",
       "    </tr>\n",
       "    <tr>\n",
       "      <th>172P</th>\n",
       "      <td>585</td>\n",
       "      <td>577</td>\n",
       "    </tr>\n",
       "    <tr>\n",
       "      <th>180</th>\n",
       "      <td>544</td>\n",
       "      <td>539</td>\n",
       "    </tr>\n",
       "    <tr>\n",
       "      <th>150M</th>\n",
       "      <td>534</td>\n",
       "      <td>529</td>\n",
       "    </tr>\n",
       "    <tr>\n",
       "      <th>150L</th>\n",
       "      <td>414</td>\n",
       "      <td>412</td>\n",
       "    </tr>\n",
       "  </tbody>\n",
       "</table>\n",
       "</div>"
      ],
      "text/plain": [
       "       Total.Fatal.Injuries  Total.Serious.Injuries\n",
       "Model                                              \n",
       "152                    2147                    2139\n",
       "172                    1630                    1620\n",
       "172N                    990                     969\n",
       "150                     774                     781\n",
       "172M                    679                     685\n",
       "182                     610                     604\n",
       "172P                    585                     577\n",
       "180                     544                     539\n",
       "150M                    534                     529\n",
       "150L                    414                     412"
      ]
     },
     "execution_count": 134,
     "metadata": {},
     "output_type": "execute_result"
    }
   ],
   "source": [
    "# Groupby the top 10 models and sort by total # of injuries for Cessna\n",
    "\n",
    "cessna_df_group = cessna_df.groupby('Model')[['Total.Fatal.Injuries',\n",
    "'Total.Serious.Injuries']].count()\n",
    "cessna_df_group['Total'] = cessna_df_group.sum(axis=1)\n",
    "cessna_df_group_top = cessna_df_group.sort_values(by='Total',ascending=False)\n",
    "cessna_df_group_top10 = cessna_df_group_top.head(10)\n",
    "cessna_df_group_top10_final = cessna_df_group_top10.drop(columns=['Total'])\n",
    "cessna_df_group_top10_final"
   ]
  },
  {
   "cell_type": "code",
   "execution_count": 135,
   "id": "08032dc2",
   "metadata": {},
   "outputs": [
    {
     "data": {
      "image/png": "[encoded data removed]",
      "text/plain": [
       "<Figure size 640x480 with 1 Axes>"
      ]
     },
     "metadata": {},
     "output_type": "display_data"
    },
    {
     "data": {
      "image/png": "[encoded data removed]",
      "text/plain": [
       "<Figure size 640x480 with 1 Axes>"
      ]
     },
     "metadata": {},
     "output_type": "display_data"
    },
    {
     "data": {
      "image/png": "[encoded data removed]",
      "text/plain": [
       "<Figure size 640x480 with 1 Axes>"
      ]
     },
     "metadata": {},
     "output_type": "display_data"
    },
    {
     "data": {
      "image/png": "[encoded data removed]",
      "text/plain": [
       "<Figure size 640x480 with 1 Axes>"
      ]
     },
     "metadata": {},
     "output_type": "display_data"
    },
    {
     "data": {
      "image/png": "[encoded data removed]",
      "text/plain": [
       "<Figure size 640x480 with 1 Axes>"
      ]
     },
     "metadata": {},
     "output_type": "display_data"
    },
    {
     "data": {
      "image/png": "[encoded data removed]",
      "text/plain": [
       "<Figure size 640x480 with 1 Axes>"
      ]
     },
     "metadata": {},
     "output_type": "display_data"
    },
    {
     "data": {
      "image/png": "[encoded data removed]",
      "text/plain": [
       "<Figure size 640x480 with 1 Axes>"
      ]
     },
     "metadata": {},
     "output_type": "display_data"
    },
    {
     "data": {
      "image/png": "[encoded data removed]",
      "text/plain": [
       "<Figure size 640x480 with 1 Axes>"
      ]
     },
     "metadata": {},
     "output_type": "display_data"
    },
    {
     "data": {
      "image/png": "[encoded data removed]",
      "text/plain": [
       "<Figure size 640x480 with 1 Axes>"
      ]
     },
     "metadata": {},
     "output_type": "display_data"
    },
    {
     "data": {
      "image/png": "[encoded data removed]",
      "text/plain": [
       "<Figure size 640x480 with 1 Axes>"
      ]
     },
     "metadata": {},
     "output_type": "display_data"
    }
   ],
   "source": [
    "# Create a for loop based on above to do this for the top 10 makes\n",
    "\n",
    "top_10_makes = list(injuries_percentage.index)\n",
    "\n",
    "for x in top_10_makes:\n",
    "    make_df = df_new[df_new['Make']==x]\n",
    "    top_10_models = make_df['Model'].value_counts().head(10)\n",
    "    top_10_models.plot(kind='bar', title=f'Top 10 Models for {x} Aircraft in Accidents')\n",
    "    plt.xlabel('Model')\n",
    "    plt.ylabel('Number of Accidents')\n",
    "    plt.show()"
   ]
  },
  {
   "cell_type": "markdown",
   "id": "05cc46a5",
   "metadata": {},
   "source": [
    "***"
   ]
  },
  {
   "cell_type": "markdown",
   "id": "67b5d3de",
   "metadata": {},
   "source": [
    "# Diving Deeper Into Boeing"
   ]
  },
  {
   "cell_type": "markdown",
   "id": "67dc67e4",
   "metadata": {},
   "source": [
    "###### We have identified that Boeing is the safest make of airplane but now let's take a look at the safest model in the Boeing aircraft lineup by analyzing the severity of damage for each model "
   ]
  },
  {
   "cell_type": "code",
   "execution_count": 136,
   "id": "fd22ebfd",
   "metadata": {},
   "outputs": [
    {
     "data": {
      "text/html": [
       "<div>\n",
       "<style scoped>\n",
       "    .dataframe tbody tr th:only-of-type {\n",
       "        vertical-align: middle;\n",
       "    }\n",
       "\n",
       "    .dataframe tbody tr th {\n",
       "        vertical-align: top;\n",
       "    }\n",
       "\n",
       "    .dataframe thead th {\n",
       "        text-align: right;\n",
       "    }\n",
       "</style>\n",
       "<table border=\"1\" class=\"dataframe\">\n",
       "  <thead>\n",
       "    <tr style=\"text-align: right;\">\n",
       "      <th></th>\n",
       "      <th>Event.Id</th>\n",
       "      <th>Investigation.Type</th>\n",
       "      <th>Accident.Number</th>\n",
       "      <th>Event.Date</th>\n",
       "      <th>Location</th>\n",
       "      <th>Country</th>\n",
       "      <th>Injury.Severity</th>\n",
       "      <th>Aircraft.damage</th>\n",
       "      <th>Registration.Number</th>\n",
       "      <th>Make</th>\n",
       "      <th>...</th>\n",
       "      <th>Purpose.of.flight</th>\n",
       "      <th>Total.Fatal.Injuries</th>\n",
       "      <th>Total.Serious.Injuries</th>\n",
       "      <th>Total.Minor.Injuries</th>\n",
       "      <th>Total.Uninjured</th>\n",
       "      <th>Weather.Condition</th>\n",
       "      <th>Report.Status</th>\n",
       "      <th>Publication.Date</th>\n",
       "      <th>Year</th>\n",
       "      <th>Month</th>\n",
       "    </tr>\n",
       "  </thead>\n",
       "  <tbody>\n",
       "    <tr>\n",
       "      <th>50</th>\n",
       "      <td>20020917X02242</td>\n",
       "      <td>Accident</td>\n",
       "      <td>LAX82DVA10</td>\n",
       "      <td>1982-01-06</td>\n",
       "      <td>NEAR BAKERSFIEL, CA</td>\n",
       "      <td>United States</td>\n",
       "      <td>Non-Fatal</td>\n",
       "      <td>Substantial</td>\n",
       "      <td>N59737</td>\n",
       "      <td>Boeing</td>\n",
       "      <td>...</td>\n",
       "      <td>Unknown</td>\n",
       "      <td>0.0</td>\n",
       "      <td>1.0</td>\n",
       "      <td>0.0</td>\n",
       "      <td>1.0</td>\n",
       "      <td>Imc</td>\n",
       "      <td>Probable Cause</td>\n",
       "      <td>06-01-1983</td>\n",
       "      <td>1982</td>\n",
       "      <td>1</td>\n",
       "    </tr>\n",
       "    <tr>\n",
       "      <th>84</th>\n",
       "      <td>20020917X01907</td>\n",
       "      <td>Accident</td>\n",
       "      <td>DCA82AA011</td>\n",
       "      <td>1982-01-13</td>\n",
       "      <td>WASHINGTON, DC</td>\n",
       "      <td>United States</td>\n",
       "      <td>Fatal(78)</td>\n",
       "      <td>Destroyed</td>\n",
       "      <td>N62AF</td>\n",
       "      <td>Boeing</td>\n",
       "      <td>...</td>\n",
       "      <td>Unknown</td>\n",
       "      <td>78.0</td>\n",
       "      <td>6.0</td>\n",
       "      <td>3.0</td>\n",
       "      <td>0.0</td>\n",
       "      <td>Imc</td>\n",
       "      <td>Probable Cause</td>\n",
       "      <td>13-01-1983</td>\n",
       "      <td>1982</td>\n",
       "      <td>1</td>\n",
       "    </tr>\n",
       "    <tr>\n",
       "      <th>242</th>\n",
       "      <td>20020917X02585</td>\n",
       "      <td>Accident</td>\n",
       "      <td>SEA82DA028A</td>\n",
       "      <td>1982-02-06</td>\n",
       "      <td>MEDFORD, OR</td>\n",
       "      <td>United States</td>\n",
       "      <td>Non-Fatal</td>\n",
       "      <td>Minor</td>\n",
       "      <td>N56270</td>\n",
       "      <td>Boeing</td>\n",
       "      <td>...</td>\n",
       "      <td>Aerial Application</td>\n",
       "      <td>0.0</td>\n",
       "      <td>0.0</td>\n",
       "      <td>0.0</td>\n",
       "      <td>3.0</td>\n",
       "      <td>Vmc</td>\n",
       "      <td>Probable Cause</td>\n",
       "      <td>06-02-1983</td>\n",
       "      <td>1982</td>\n",
       "      <td>2</td>\n",
       "    </tr>\n",
       "    <tr>\n",
       "      <th>320</th>\n",
       "      <td>20020917X02336</td>\n",
       "      <td>Incident</td>\n",
       "      <td>LAX82IA075</td>\n",
       "      <td>1982-02-15</td>\n",
       "      <td>ONTARIO, CA</td>\n",
       "      <td>United States</td>\n",
       "      <td>Incident</td>\n",
       "      <td>Minor</td>\n",
       "      <td>N73717</td>\n",
       "      <td>Boeing</td>\n",
       "      <td>...</td>\n",
       "      <td>Unknown</td>\n",
       "      <td>0.0</td>\n",
       "      <td>0.0</td>\n",
       "      <td>0.0</td>\n",
       "      <td>119.0</td>\n",
       "      <td>Imc</td>\n",
       "      <td>Probable Cause</td>\n",
       "      <td>15-02-1983</td>\n",
       "      <td>1982</td>\n",
       "      <td>2</td>\n",
       "    </tr>\n",
       "    <tr>\n",
       "      <th>344</th>\n",
       "      <td>20020917X02404</td>\n",
       "      <td>Accident</td>\n",
       "      <td>MIA82FA051</td>\n",
       "      <td>1982-02-17</td>\n",
       "      <td>MIAMI, FL</td>\n",
       "      <td>United States</td>\n",
       "      <td>Non-Fatal</td>\n",
       "      <td>Substantial</td>\n",
       "      <td>N4734</td>\n",
       "      <td>Boeing</td>\n",
       "      <td>...</td>\n",
       "      <td>Unknown</td>\n",
       "      <td>0.0</td>\n",
       "      <td>1.0</td>\n",
       "      <td>1.0</td>\n",
       "      <td>51.0</td>\n",
       "      <td>Vmc</td>\n",
       "      <td>Probable Cause</td>\n",
       "      <td>17-02-1983</td>\n",
       "      <td>1982</td>\n",
       "      <td>2</td>\n",
       "    </tr>\n",
       "    <tr>\n",
       "      <th>...</th>\n",
       "      <td>...</td>\n",
       "      <td>...</td>\n",
       "      <td>...</td>\n",
       "      <td>...</td>\n",
       "      <td>...</td>\n",
       "      <td>...</td>\n",
       "      <td>...</td>\n",
       "      <td>...</td>\n",
       "      <td>...</td>\n",
       "      <td>...</td>\n",
       "      <td>...</td>\n",
       "      <td>...</td>\n",
       "      <td>...</td>\n",
       "      <td>...</td>\n",
       "      <td>...</td>\n",
       "      <td>...</td>\n",
       "      <td>...</td>\n",
       "      <td>...</td>\n",
       "      <td>...</td>\n",
       "      <td>...</td>\n",
       "      <td>...</td>\n",
       "    </tr>\n",
       "    <tr>\n",
       "      <th>88821</th>\n",
       "      <td>20221125106357</td>\n",
       "      <td>Incident</td>\n",
       "      <td>DCA23WA075</td>\n",
       "      <td>2022-11-25</td>\n",
       "      <td>Breslau,</td>\n",
       "      <td>Canada</td>\n",
       "      <td>Non-Fatal</td>\n",
       "      <td>NaN</td>\n",
       "      <td>C-FFLC</td>\n",
       "      <td>Boeing</td>\n",
       "      <td>...</td>\n",
       "      <td>NaN</td>\n",
       "      <td>0.0</td>\n",
       "      <td>0.0</td>\n",
       "      <td>0.0</td>\n",
       "      <td>140.0</td>\n",
       "      <td>NaN</td>\n",
       "      <td>NaN</td>\n",
       "      <td>25-11-2022</td>\n",
       "      <td>2022</td>\n",
       "      <td>11</td>\n",
       "    </tr>\n",
       "    <tr>\n",
       "      <th>88826</th>\n",
       "      <td>20221222106484</td>\n",
       "      <td>Incident</td>\n",
       "      <td>DCA23WA099</td>\n",
       "      <td>2022-11-26</td>\n",
       "      <td>Bangkok,</td>\n",
       "      <td>Thailand</td>\n",
       "      <td>Non-Fatal</td>\n",
       "      <td>NaN</td>\n",
       "      <td>HS-DBO</td>\n",
       "      <td>Boeing</td>\n",
       "      <td>...</td>\n",
       "      <td>NaN</td>\n",
       "      <td>0.0</td>\n",
       "      <td>0.0</td>\n",
       "      <td>0.0</td>\n",
       "      <td>186.0</td>\n",
       "      <td>NaN</td>\n",
       "      <td>NaN</td>\n",
       "      <td>22-12-2022</td>\n",
       "      <td>2022</td>\n",
       "      <td>11</td>\n",
       "    </tr>\n",
       "    <tr>\n",
       "      <th>88849</th>\n",
       "      <td>20221208106433</td>\n",
       "      <td>Accident</td>\n",
       "      <td>DCA23WA091</td>\n",
       "      <td>2022-12-05</td>\n",
       "      <td>Dortmund,</td>\n",
       "      <td>Georgia</td>\n",
       "      <td>NaN</td>\n",
       "      <td>NaN</td>\n",
       "      <td>EI-DLV</td>\n",
       "      <td>Boeing</td>\n",
       "      <td>...</td>\n",
       "      <td>NaN</td>\n",
       "      <td>0.0</td>\n",
       "      <td>0.0</td>\n",
       "      <td>0.0</td>\n",
       "      <td>0.0</td>\n",
       "      <td>NaN</td>\n",
       "      <td>NaN</td>\n",
       "      <td>NaN</td>\n",
       "      <td>2022</td>\n",
       "      <td>12</td>\n",
       "    </tr>\n",
       "    <tr>\n",
       "      <th>88851</th>\n",
       "      <td>20221222106485</td>\n",
       "      <td>Incident</td>\n",
       "      <td>DCA23WA100</td>\n",
       "      <td>2022-12-05</td>\n",
       "      <td>Bangkok,</td>\n",
       "      <td>Thailand</td>\n",
       "      <td>Non-Fatal</td>\n",
       "      <td>NaN</td>\n",
       "      <td>HS-LUZ</td>\n",
       "      <td>Boeing</td>\n",
       "      <td>...</td>\n",
       "      <td>NaN</td>\n",
       "      <td>0.0</td>\n",
       "      <td>0.0</td>\n",
       "      <td>0.0</td>\n",
       "      <td>102.0</td>\n",
       "      <td>NaN</td>\n",
       "      <td>NaN</td>\n",
       "      <td>22-12-2022</td>\n",
       "      <td>2022</td>\n",
       "      <td>12</td>\n",
       "    </tr>\n",
       "    <tr>\n",
       "      <th>88855</th>\n",
       "      <td>20221212106439</td>\n",
       "      <td>Accident</td>\n",
       "      <td>DCA23LA093</td>\n",
       "      <td>2022-12-08</td>\n",
       "      <td>Newark, NJ</td>\n",
       "      <td>United States</td>\n",
       "      <td>Serious</td>\n",
       "      <td>NaN</td>\n",
       "      <td>N649UA</td>\n",
       "      <td>Boeing</td>\n",
       "      <td>...</td>\n",
       "      <td>NaN</td>\n",
       "      <td>0.0</td>\n",
       "      <td>3.0</td>\n",
       "      <td>1.0</td>\n",
       "      <td>175.0</td>\n",
       "      <td>NaN</td>\n",
       "      <td>NaN</td>\n",
       "      <td>12-12-2022</td>\n",
       "      <td>2022</td>\n",
       "      <td>12</td>\n",
       "    </tr>\n",
       "  </tbody>\n",
       "</table>\n",
       "<p>2745 rows × 24 columns</p>\n",
       "</div>"
      ],
      "text/plain": [
       "             Event.Id Investigation.Type Accident.Number Event.Date  \\\n",
       "50     20020917X02242           Accident      LAX82DVA10 1982-01-06   \n",
       "84     20020917X01907           Accident      DCA82AA011 1982-01-13   \n",
       "242    20020917X02585           Accident     SEA82DA028A 1982-02-06   \n",
       "320    20020917X02336           Incident      LAX82IA075 1982-02-15   \n",
       "344    20020917X02404           Accident      MIA82FA051 1982-02-17   \n",
       "...               ...                ...             ...        ...   \n",
       "88821  20221125106357           Incident      DCA23WA075 2022-11-25   \n",
       "88826  20221222106484           Incident      DCA23WA099 2022-11-26   \n",
       "88849  20221208106433           Accident      DCA23WA091 2022-12-05   \n",
       "88851  20221222106485           Incident      DCA23WA100 2022-12-05   \n",
       "88855  20221212106439           Accident      DCA23LA093 2022-12-08   \n",
       "\n",
       "                  Location        Country Injury.Severity Aircraft.damage  \\\n",
       "50     NEAR BAKERSFIEL, CA  United States       Non-Fatal     Substantial   \n",
       "84          WASHINGTON, DC  United States       Fatal(78)       Destroyed   \n",
       "242            MEDFORD, OR  United States       Non-Fatal           Minor   \n",
       "320            ONTARIO, CA  United States        Incident           Minor   \n",
       "344              MIAMI, FL  United States       Non-Fatal     Substantial   \n",
       "...                    ...            ...             ...             ...   \n",
       "88821            Breslau,          Canada       Non-Fatal             NaN   \n",
       "88826            Bangkok,        Thailand       Non-Fatal             NaN   \n",
       "88849           Dortmund,         Georgia             NaN             NaN   \n",
       "88851            Bangkok,        Thailand       Non-Fatal             NaN   \n",
       "88855           Newark, NJ  United States         Serious             NaN   \n",
       "\n",
       "      Registration.Number    Make  ...   Purpose.of.flight  \\\n",
       "50                 N59737  Boeing  ...             Unknown   \n",
       "84                  N62AF  Boeing  ...             Unknown   \n",
       "242                N56270  Boeing  ...  Aerial Application   \n",
       "320                N73717  Boeing  ...             Unknown   \n",
       "344                 N4734  Boeing  ...             Unknown   \n",
       "...                   ...     ...  ...                 ...   \n",
       "88821              C-FFLC  Boeing  ...                 NaN   \n",
       "88826              HS-DBO  Boeing  ...                 NaN   \n",
       "88849              EI-DLV  Boeing  ...                 NaN   \n",
       "88851              HS-LUZ  Boeing  ...                 NaN   \n",
       "88855              N649UA  Boeing  ...                 NaN   \n",
       "\n",
       "      Total.Fatal.Injuries  Total.Serious.Injuries Total.Minor.Injuries  \\\n",
       "50                     0.0                     1.0                  0.0   \n",
       "84                    78.0                     6.0                  3.0   \n",
       "242                    0.0                     0.0                  0.0   \n",
       "320                    0.0                     0.0                  0.0   \n",
       "344                    0.0                     1.0                  1.0   \n",
       "...                    ...                     ...                  ...   \n",
       "88821                  0.0                     0.0                  0.0   \n",
       "88826                  0.0                     0.0                  0.0   \n",
       "88849                  0.0                     0.0                  0.0   \n",
       "88851                  0.0                     0.0                  0.0   \n",
       "88855                  0.0                     3.0                  1.0   \n",
       "\n",
       "      Total.Uninjured  Weather.Condition   Report.Status  Publication.Date  \\\n",
       "50                1.0                Imc  Probable Cause        06-01-1983   \n",
       "84                0.0                Imc  Probable Cause        13-01-1983   \n",
       "242               3.0                Vmc  Probable Cause        06-02-1983   \n",
       "320             119.0                Imc  Probable Cause        15-02-1983   \n",
       "344              51.0                Vmc  Probable Cause        17-02-1983   \n",
       "...               ...                ...             ...               ...   \n",
       "88821           140.0                NaN             NaN        25-11-2022   \n",
       "88826           186.0                NaN             NaN        22-12-2022   \n",
       "88849             0.0                NaN             NaN               NaN   \n",
       "88851           102.0                NaN             NaN        22-12-2022   \n",
       "88855           175.0                NaN             NaN        12-12-2022   \n",
       "\n",
       "       Year Month  \n",
       "50     1982     1  \n",
       "84     1982     1  \n",
       "242    1982     2  \n",
       "320    1982     2  \n",
       "344    1982     2  \n",
       "...     ...   ...  \n",
       "88821  2022    11  \n",
       "88826  2022    11  \n",
       "88849  2022    12  \n",
       "88851  2022    12  \n",
       "88855  2022    12  \n",
       "\n",
       "[2745 rows x 24 columns]"
      ]
     },
     "execution_count": 136,
     "metadata": {},
     "output_type": "execute_result"
    }
   ],
   "source": [
    "#Creating a df for Boeing to dive deeper into safety of each model\n",
    "boeing = df_new['Make'] == \"Boeing\"\n",
    "boeing_df = df_new[boeing]\n",
    "boeing_df"
   ]
  },
  {
   "cell_type": "code",
   "execution_count": 137,
   "id": "ae3addf5",
   "metadata": {},
   "outputs": [
    {
     "name": "stdout",
     "output_type": "stream",
     "text": [
      "Model\n",
      "737           489\n",
      "A75N1         107\n",
      "777            95\n",
      "747            85\n",
      "767            68\n",
      "             ... \n",
      "727 - 221F      1\n",
      "757 2B7         1\n",
      "747-47UF        1\n",
      "747-8F          1\n",
      "737-8           1\n",
      "Name: count, Length: 563, dtype: int64\n"
     ]
    }
   ],
   "source": [
    "# Viewing the most frequently used Boeing aircrafts\n",
    "\n",
    "boeing_df['Model'].value_counts\n",
    "\n",
    "boeing_sorted = boeing_df['Model'].value_counts().sort_values(ascending=False)\n",
    "\n",
    "print(boeing_sorted)"
   ]
  },
  {
   "cell_type": "code",
   "execution_count": 138,
   "id": "6974699c",
   "metadata": {},
   "outputs": [
    {
     "data": {
      "text/plain": [
       "Model  \n",
       "737        489\n",
       "A75N1      107\n",
       "777         95\n",
       "747         85\n",
       "767         68\n",
       "757         59\n",
       "737-200     53\n",
       "737-300     51\n",
       "B75N1       45\n",
       "727-200     43\n",
       "Name: count, dtype: int64"
      ]
     },
     "execution_count": 138,
     "metadata": {},
     "output_type": "execute_result"
    }
   ],
   "source": [
    "\n",
    "# Calculate the counts of each model\n",
    "model_counts = boeing_df['Model'].value_counts()\n",
    "\n",
    "# Sort the models by counts and select the top 10 models\n",
    "top_10_models = model_counts.head(10).index\n",
    "\n",
    "# Filter the DataFrame to include only the top 10 models\n",
    "boeing_top_10_df = boeing_df[boeing_df['Model'].isin(top_10_models)]\n",
    "\n",
    "# Now boeing_top_10_df contains only the rows where the Model is one of the top 10 models.\n",
    "boeing_top_10_df.value_counts(['Model'])"
   ]
  },
  {
   "cell_type": "code",
   "execution_count": 139,
   "id": "011458a1",
   "metadata": {},
   "outputs": [
    {
     "data": {
      "text/html": [
       "<div>\n",
       "<style scoped>\n",
       "    .dataframe tbody tr th:only-of-type {\n",
       "        vertical-align: middle;\n",
       "    }\n",
       "\n",
       "    .dataframe tbody tr th {\n",
       "        vertical-align: top;\n",
       "    }\n",
       "\n",
       "    .dataframe thead th {\n",
       "        text-align: right;\n",
       "    }\n",
       "</style>\n",
       "<table border=\"1\" class=\"dataframe\">\n",
       "  <thead>\n",
       "    <tr style=\"text-align: right;\">\n",
       "      <th>Aircraft.damage</th>\n",
       "      <th>Destroyed</th>\n",
       "      <th>Minor</th>\n",
       "      <th>Substantial</th>\n",
       "    </tr>\n",
       "    <tr>\n",
       "      <th>Model</th>\n",
       "      <th></th>\n",
       "      <th></th>\n",
       "      <th></th>\n",
       "    </tr>\n",
       "  </thead>\n",
       "  <tbody>\n",
       "    <tr>\n",
       "      <th>727-200</th>\n",
       "      <td>1</td>\n",
       "      <td>17</td>\n",
       "      <td>9</td>\n",
       "    </tr>\n",
       "    <tr>\n",
       "      <th>737</th>\n",
       "      <td>15</td>\n",
       "      <td>124</td>\n",
       "      <td>69</td>\n",
       "    </tr>\n",
       "    <tr>\n",
       "      <th>737-200</th>\n",
       "      <td>12</td>\n",
       "      <td>10</td>\n",
       "      <td>11</td>\n",
       "    </tr>\n",
       "    <tr>\n",
       "      <th>737-300</th>\n",
       "      <td>5</td>\n",
       "      <td>13</td>\n",
       "      <td>12</td>\n",
       "    </tr>\n",
       "    <tr>\n",
       "      <th>747</th>\n",
       "      <td>2</td>\n",
       "      <td>38</td>\n",
       "      <td>12</td>\n",
       "    </tr>\n",
       "    <tr>\n",
       "      <th>757</th>\n",
       "      <td>2</td>\n",
       "      <td>14</td>\n",
       "      <td>12</td>\n",
       "    </tr>\n",
       "    <tr>\n",
       "      <th>767</th>\n",
       "      <td>3</td>\n",
       "      <td>17</td>\n",
       "      <td>13</td>\n",
       "    </tr>\n",
       "    <tr>\n",
       "      <th>777</th>\n",
       "      <td>1</td>\n",
       "      <td>32</td>\n",
       "      <td>10</td>\n",
       "    </tr>\n",
       "    <tr>\n",
       "      <th>A75N1</th>\n",
       "      <td>7</td>\n",
       "      <td>6</td>\n",
       "      <td>94</td>\n",
       "    </tr>\n",
       "    <tr>\n",
       "      <th>B75N1</th>\n",
       "      <td>3</td>\n",
       "      <td>1</td>\n",
       "      <td>40</td>\n",
       "    </tr>\n",
       "  </tbody>\n",
       "</table>\n",
       "</div>"
      ],
      "text/plain": [
       "Aircraft.damage  Destroyed  Minor  Substantial\n",
       "Model                                         \n",
       "727-200                  1     17            9\n",
       "737                     15    124           69\n",
       "737-200                 12     10           11\n",
       "737-300                  5     13           12\n",
       "747                      2     38           12\n",
       "757                      2     14           12\n",
       "767                      3     17           13\n",
       "777                      1     32           10\n",
       "A75N1                    7      6           94\n",
       "B75N1                    3      1           40"
      ]
     },
     "execution_count": 139,
     "metadata": {},
     "output_type": "execute_result"
    }
   ],
   "source": [
    "# Grouping the Boeing dataframe by the type of aircraft damage\n",
    "\n",
    "boeing_grouped = boeing_top_10_df.groupby(['Model', 'Aircraft.damage']).size().unstack(fill_value=0)\n",
    "boeing_grouped_2 = boeing_grouped.drop(columns='Unknown')\n",
    "# Now grouped_df contains the count of each type of aircraft damage for each model.\n",
    "boeing_grouped_2"
   ]
  },
  {
   "cell_type": "code",
   "execution_count": 140,
   "id": "8cbc03b5",
   "metadata": {},
   "outputs": [
    {
     "name": "stdout",
     "output_type": "stream",
     "text": [
      "Aircraft.damage  Destroyed      Minor  Substantial\n",
      "Model                                             \n",
      "727-200           3.703704  62.962963    33.333333\n",
      "737               7.211538  59.615385    33.173077\n",
      "737-200          36.363636  30.303030    33.333333\n",
      "737-300          16.666667  43.333333    40.000000\n",
      "747               3.846154  73.076923    23.076923\n",
      "757               7.142857  50.000000    42.857143\n",
      "767               9.090909  51.515152    39.393939\n",
      "777               2.325581  74.418605    23.255814\n",
      "A75N1             6.542056   5.607477    87.850467\n",
      "B75N1             6.818182   2.272727    90.909091\n"
     ]
    }
   ],
   "source": [
    "# Calculate the sum of each row\n",
    "row_sum = boeing_grouped_2.sum(axis=1)\n",
    "\n",
    "# Divide each value in the DataFrame by the sum of the row and multiply by 100\n",
    "boeing_grouped_percentage = boeing_grouped_2.div(row_sum, axis=0) * 100\n",
    "\n",
    "print(boeing_grouped_percentage)\n"
   ]
  },
  {
   "cell_type": "code",
   "execution_count": 141,
   "id": "67f90e7f",
   "metadata": {},
   "outputs": [
    {
     "data": {
      "image/png": "[encoded data removed]",
      "text/plain": [
       "<Figure size 1000x600 with 1 Axes>"
      ]
     },
     "metadata": {},
     "output_type": "display_data"
    }
   ],
   "source": [
    "# Plotting the stacked bar chart\n",
    "boeing_grouped_percentage.plot(kind='bar', stacked=True, figsize=(10, 6))\n",
    "plt.xlabel('Model')\n",
    "plt.ylabel('Percentage of Aircraft Damage (%)')\n",
    "plt.xticks(rotation=45, ha='right')\n",
    "plt.legend(title='Aircraft Damage')\n",
    "plt.tight_layout()\n",
    "plt.show()"
   ]
  },
  {
   "cell_type": "markdown",
   "id": "1983c7c8",
   "metadata": {},
   "source": [
    "***"
   ]
  },
  {
   "cell_type": "markdown",
   "id": "d1d7e98d",
   "metadata": {},
   "source": [
    "# Conclusions"
   ]
  },
  {
   "cell_type": "markdown",
   "id": "9a969332",
   "metadata": {},
   "source": [
    "### \n",
    "1. Boeing is the safest aircraft manufacturer\n",
    "2. The 777 is the safest model based on the severity of damage during accidents\n",
    "3. Overall, aircraft accidents have been on the decline for many years"
   ]
  },
  {
   "cell_type": "markdown",
   "id": "63da44ca",
   "metadata": {},
   "source": [
    "***"
   ]
  },
  {
   "cell_type": "markdown",
   "id": "1524f168",
   "metadata": {},
   "source": [
    "## Limitations\n",
    "1. We have limited data for certain Boeing models making inferences hard to validate"
   ]
  },
  {
   "cell_type": "markdown",
   "id": "6e888d7f",
   "metadata": {},
   "source": [
    "***"
   ]
  },
  {
   "cell_type": "markdown",
   "id": "a3d23a0f",
   "metadata": {},
   "source": [
    "## Recommendations"
   ]
  },
  {
   "cell_type": "markdown",
   "id": "d5d565a4",
   "metadata": {},
   "source": [
    "### My reccommendation is to exclusively use Boeing airplanes and specifically the 777, 737, and 737-200 models"
   ]
  }
 ],
 "metadata": {
  "kernelspec": {
   "display_name": "Python (learn-env)",
   "language": "python",
   "name": "learn-env"
  },
  "language_info": {
   "codemirror_mode": {
    "name": "ipython",
    "version": 3
   },
   "file_extension": ".py",
   "mimetype": "text/x-python",
   "name": "python",
   "nbconvert_exporter": "python",
   "pygments_lexer": "ipython3",
   "version": "3.11.5"
  }
 },
 "nbformat": 4,
 "nbformat_minor": 5
}
